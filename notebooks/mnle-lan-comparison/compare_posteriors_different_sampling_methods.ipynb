{
 "cells": [
  {
   "cell_type": "code",
   "execution_count": 1,
   "metadata": {},
   "outputs": [
    {
     "name": "stderr",
     "output_type": "stream",
     "text": [
      "2022-04-29 09:17:18.056956: W tensorflow/stream_executor/platform/default/dso_loader.cc:64] Could not load dynamic library 'libcudart.so.11.0'; dlerror: libcudart.so.11.0: cannot open shared object file: No such file or directory; LD_LIBRARY_PATH: /usr/local/cuda/lib64\n",
      "2022-04-29 09:17:18.056982: I tensorflow/stream_executor/cuda/cudart_stub.cc:29] Ignore above cudart dlerror if you do not have a GPU set up on your machine.\n"
     ]
    }
   ],
   "source": [
    "import pickle\n",
    "from pathlib import Path\n",
    "\n",
    "import lanfactory\n",
    "import sbibm\n",
    "import torch\n",
    "\n",
    "from sbi.inference import MCMCPosterior, MNLE\n",
    "from sbi.inference.potentials.base_potential import BasePotential\n",
    "from sbi.utils import mcmc_transform\n",
    "from sbi.analysis import pairplot\n"
   ]
  },
  {
   "cell_type": "code",
   "execution_count": 2,
   "metadata": {},
   "outputs": [],
   "source": [
    "# Get benchmark task to load observations\n",
    "seed = torch.randint(100000, (1,)).item()\n",
    "\n",
    "task = sbibm.get_task(\"ddm\")\n",
    "prior = task.get_prior_dist()\n",
    "simulator = task.get_simulator(seed=seed) # Passing the seed to Julia."
   ]
  },
  {
   "cell_type": "code",
   "execution_count": 3,
   "metadata": {},
   "outputs": [],
   "source": [
    "# Observation indices >200 hold 100-trial observations\n",
    "num_obs = 100\n",
    "xos = torch.stack([task.get_observation(200 + ii) for ii in range(1, 1+num_obs)]).squeeze()\n",
    "\n",
    "# encode xos as (time, choice)\n",
    "xos_2d = torch.zeros((xos.shape[0], xos.shape[1], 2))\n",
    "for idx, xo in enumerate(xos):\n",
    "    xos_2d[idx, :, 0] = abs(xo)\n",
    "    xos_2d[idx, xo > 0, 1] = 1"
   ]
  },
  {
   "cell_type": "code",
   "execution_count": 4,
   "metadata": {},
   "outputs": [],
   "source": [
    "BASE_DIR = Path.cwd().parent.parent\n",
    "save_folder = BASE_DIR / \"data/results\""
   ]
  },
  {
   "cell_type": "code",
   "execution_count": 5,
   "metadata": {},
   "outputs": [
    {
     "ename": "FileNotFoundError",
     "evalue": "[Errno 2] No such file or directory: 'lan_10_11_posterior_samples_100x100iid.p'",
     "output_type": "error",
     "traceback": [
      "\u001b[0;31m---------------------------------------------------------------------------\u001b[0m",
      "\u001b[0;31mFileNotFoundError\u001b[0m                         Traceback (most recent call last)",
      "\u001b[0;32m/tmp/ipykernel_3570272/408195940.py\u001b[0m in \u001b[0;36m<module>\u001b[0;34m\u001b[0m\n\u001b[0;32m----> 1\u001b[0;31m \u001b[0;32mwith\u001b[0m \u001b[0mopen\u001b[0m\u001b[0;34m(\u001b[0m\u001b[0;34m\"lan_10_11_posterior_samples_100x100iid.p\"\u001b[0m\u001b[0;34m,\u001b[0m \u001b[0;34m\"rb\"\u001b[0m\u001b[0;34m)\u001b[0m \u001b[0;32mas\u001b[0m \u001b[0mfh\u001b[0m\u001b[0;34m:\u001b[0m\u001b[0;34m\u001b[0m\u001b[0;34m\u001b[0m\u001b[0m\n\u001b[0m\u001b[1;32m      2\u001b[0m     \u001b[0msamples\u001b[0m \u001b[0;34m=\u001b[0m \u001b[0mpickle\u001b[0m\u001b[0;34m.\u001b[0m\u001b[0mload\u001b[0m\u001b[0;34m(\u001b[0m\u001b[0mfh\u001b[0m\u001b[0;34m)\u001b[0m\u001b[0;34m\u001b[0m\u001b[0;34m\u001b[0m\u001b[0m\n\u001b[1;32m      3\u001b[0m \u001b[0msamples1\u001b[0m \u001b[0;34m=\u001b[0m \u001b[0mtorch\u001b[0m\u001b[0;34m.\u001b[0m\u001b[0mstack\u001b[0m\u001b[0;34m(\u001b[0m\u001b[0msamples\u001b[0m\u001b[0;34m)\u001b[0m\u001b[0;34m\u001b[0m\u001b[0;34m\u001b[0m\u001b[0m\n\u001b[1;32m      4\u001b[0m \u001b[0;34m\u001b[0m\u001b[0m\n\u001b[1;32m      5\u001b[0m \u001b[0;32mwith\u001b[0m \u001b[0mopen\u001b[0m\u001b[0;34m(\u001b[0m\u001b[0msave_folder\u001b[0m \u001b[0;34m/\u001b[0m \u001b[0;34m\"lan_10_5_ours_posterior_samples_100x100iid.p\"\u001b[0m\u001b[0;34m,\u001b[0m \u001b[0;34m\"rb\"\u001b[0m\u001b[0;34m)\u001b[0m \u001b[0;32mas\u001b[0m \u001b[0mfh\u001b[0m\u001b[0;34m:\u001b[0m\u001b[0;34m\u001b[0m\u001b[0;34m\u001b[0m\u001b[0m\n",
      "\u001b[0;31mFileNotFoundError\u001b[0m: [Errno 2] No such file or directory: 'lan_10_11_posterior_samples_100x100iid.p'"
     ]
    }
   ],
   "source": [
    "with open(\"lan_10_11_posterior_samples_100x100iid.p\", \"rb\") as fh:\n",
    "    samples = pickle.load(fh)\n",
    "samples1 = torch.stack(samples)\n",
    "\n",
    "with open(save_folder / \"lan_10_5_ours_posterior_samples_100x100iid.p\", \"rb\") as fh:\n",
    "    samples = pickle.load(fh)\n",
    "samples2 = torch.stack(samples)\n",
    "\n",
    "with open(save_folder / \"lan_10_6_ours_posterior_samples_100x100iid.p\", \"rb\") as fh:\n",
    "    samples = pickle.load(fh)\n",
    "samples3 = torch.stack(samples)\n",
    "\n",
    "\n"
   ]
  },
  {
   "cell_type": "code",
   "execution_count": 6,
   "metadata": {},
   "outputs": [
    {
     "ename": "NameError",
     "evalue": "name 'samples1' is not defined",
     "output_type": "error",
     "traceback": [
      "\u001b[0;31m---------------------------------------------------------------------------\u001b[0m",
      "\u001b[0;31mNameError\u001b[0m                                 Traceback (most recent call last)",
      "\u001b[0;32m/tmp/ipykernel_3570272/2311646784.py\u001b[0m in \u001b[0;36m<module>\u001b[0;34m\u001b[0m\n\u001b[1;32m      7\u001b[0m     [\n\u001b[1;32m      8\u001b[0m         \u001b[0mreference_samples\u001b[0m\u001b[0;34m[\u001b[0m\u001b[0;34m:\u001b[0m\u001b[0;36m1000\u001b[0m\u001b[0;34m]\u001b[0m\u001b[0;34m,\u001b[0m\u001b[0;34m\u001b[0m\u001b[0;34m\u001b[0m\u001b[0m\n\u001b[0;32m----> 9\u001b[0;31m         \u001b[0msamples1\u001b[0m\u001b[0;34m[\u001b[0m\u001b[0mobsi\u001b[0m\u001b[0;34m,\u001b[0m\u001b[0;34m]\u001b[0m\u001b[0;34m,\u001b[0m\u001b[0;34m\u001b[0m\u001b[0;34m\u001b[0m\u001b[0m\n\u001b[0m\u001b[1;32m     10\u001b[0m         \u001b[0;31m# samples2[obsi,],\u001b[0m\u001b[0;34m\u001b[0m\u001b[0;34m\u001b[0m\u001b[0;34m\u001b[0m\u001b[0m\n\u001b[1;32m     11\u001b[0m         \u001b[0msamples3\u001b[0m\u001b[0;34m[\u001b[0m\u001b[0mobsi\u001b[0m\u001b[0;34m,\u001b[0m\u001b[0;34m]\u001b[0m\u001b[0;34m,\u001b[0m\u001b[0;34m\u001b[0m\u001b[0;34m\u001b[0m\u001b[0m\n",
      "\u001b[0;31mNameError\u001b[0m: name 'samples1' is not defined"
     ]
    }
   ],
   "source": [
    "# Reference posterior for first obs in xos\n",
    "obsi = 18\n",
    "reference_samples = task.get_reference_posterior_samples(201+obsi)\n",
    "true_theta = task.get_true_parameters(201+obsi)\n",
    "\n",
    "fig, ax = pairplot(\n",
    "    [\n",
    "        reference_samples[:1000], \n",
    "        samples1[obsi,], \n",
    "        # samples2[obsi,],\n",
    "        samples3[obsi,], \n",
    "    ], \n",
    "    upper=\"contour\", points=true_theta, figsize=(18, 10),\n",
    "    contour_offdiag = dict(levels=[0.99]),\n",
    "    limits=[[-2, 2], [0.5, 2.0], [.3, .7], [.2, 1.8]], \n",
    "    ticks = [[-2, 2], [0.5, 2.0], [.3, .7], [.2, 1.8]], \n",
    ");"
   ]
  },
  {
   "cell_type": "markdown",
   "metadata": {},
   "source": [
    "## Inference with gradient information: HMC-NUTS"
   ]
  },
  {
   "cell_type": "code",
   "execution_count": 7,
   "metadata": {},
   "outputs": [],
   "source": [
    "# load a LAN\n",
    "budget = \"100000\"\n",
    "model_path = Path.cwd() / f\"models/\"\n",
    "network_file_path = list(model_path.glob(f\"mnle_n{budget}_new*\"))[5]  # take first model from random inits.\n",
    "\n",
    "with open(network_file_path, \"rb\") as fh:\n",
    "    mnle, *_ = pickle.load(fh).values()\n",
    "\n",
    "mcmc_parameters = dict(\n",
    "    warmup_steps = 100, \n",
    "    thin = 10, \n",
    "    num_chains = 2,\n",
    "    num_workers = 1,\n",
    "    init_strategy = \"sir\",\n",
    "    )\n",
    "mcmc_method = \"nuts\"\n",
    "\n",
    "# Build MCMC posterior in SBI.\n",
    "mnle_posterior = MNLE().build_posterior(mnle, prior, \n",
    "    mcmc_method=mcmc_method, \n",
    "    mcmc_parameters=mcmc_parameters,\n",
    "    )\n",
    "\n",
    "samples = []\n",
    "num_samples = 10000\n",
    "\n",
    "viposterior = MNLE().build_posterior(mnle, prior, \n",
    "    sample_with=\"vi\"\n",
    "    )"
   ]
  },
  {
   "cell_type": "code",
   "execution_count": 15,
   "metadata": {},
   "outputs": [
    {
     "data": {
      "application/vnd.jupyter.widget-view+json": {
       "model_id": "de571caad0fe4014a18073426b6e3677",
       "version_major": 2,
       "version_minor": 0
      },
      "text/plain": [
       "  0%|          | 0/500 [00:00<?, ?it/s]"
      ]
     },
     "metadata": {},
     "output_type": "display_data"
    },
    {
     "name": "stdout",
     "output_type": "stream",
     "text": [
      "\n",
      "Converged with loss: 54.19\n",
      "Quality Score: -0.013 \t Good: Smaller than 0.5  Bad: Larger than 1.0 \t         NOTE: Less sensitive to mode collapse.\n"
     ]
    }
   ],
   "source": [
    "obsi = 10\n",
    "xo = xos_2d[obsi]\n",
    "viposterior.set_default_x(xo)\n",
    "viposterior.train(max_num_iters=500)\n",
    "vi_samples = viposterior.sample((num_samples, ))\n",
    "\n",
    "with open(f\"mnle_vi_samples_obs{201+obsi}.p\", \"wb\") as fh:\n",
    "    pickle.dump(vi_samples, fh)"
   ]
  },
  {
   "cell_type": "code",
   "execution_count": 8,
   "metadata": {},
   "outputs": [],
   "source": [
    "with open(save_folder / \"mnle_samplemethod_comparison_obs211.p\", \"rb\") as fh:\n",
    "    reference_samples, true_theta, slice_samples, vi_samples, nuts_samples, timings = pickle.load(fh).values()"
   ]
  },
  {
   "cell_type": "code",
   "execution_count": 9,
   "metadata": {},
   "outputs": [
    {
     "name": "stderr",
     "output_type": "stream",
     "text": [
      "/home/janfb/qode/sbi/sbi/analysis/plot.py:425: UserWarning: No contour levels were found within the data range.\n",
      "  levels=opts[\"contour_offdiag\"][\"levels\"],\n",
      "/home/janfb/qode/sbi/sbi/analysis/plot.py:425: UserWarning: No contour levels were found within the data range.\n",
      "  levels=opts[\"contour_offdiag\"][\"levels\"],\n",
      "/home/janfb/qode/sbi/sbi/analysis/plot.py:425: UserWarning: No contour levels were found within the data range.\n",
      "  levels=opts[\"contour_offdiag\"][\"levels\"],\n",
      "/home/janfb/qode/sbi/sbi/analysis/plot.py:425: UserWarning: No contour levels were found within the data range.\n",
      "  levels=opts[\"contour_offdiag\"][\"levels\"],\n",
      "/home/janfb/qode/sbi/sbi/analysis/plot.py:425: UserWarning: No contour levels were found within the data range.\n",
      "  levels=opts[\"contour_offdiag\"][\"levels\"],\n",
      "/home/janfb/qode/sbi/sbi/analysis/plot.py:425: UserWarning: No contour levels were found within the data range.\n",
      "  levels=opts[\"contour_offdiag\"][\"levels\"],\n"
     ]
    },
    {
     "data": {
      "image/png": "[encoded data removed]",
      "text/plain": [
       "<Figure size 1296x720 with 16 Axes>"
      ]
     },
     "metadata": {
      "needs_background": "light"
     },
     "output_type": "display_data"
    }
   ],
   "source": [
    "fig, ax = pairplot(\n",
    "    [\n",
    "        reference_samples, \n",
    "        slice_samples,\n",
    "        nuts_samples, \n",
    "        vi_samples,\n",
    "    ], \n",
    "    kde_offdiag=dict(bw_method=0.2, bins=100),\n",
    "    kde_diag=dict(bw_method=0.12, bins=100),\n",
    "    upper=\"contour\", \n",
    "    points=true_theta, figsize=(18, 10),\n",
    "    contour_offdiag = dict(levels=[0.95]),\n",
    "    limits=[[-2, 2], [0.5, 2.0], [.3, .7], [1., 1.4]], \n",
    "    ticks = [[-2, 2], [0.5, 2.0], [.3, .7], [1., 1.4]], \n",
    ");"
   ]
  },
  {
   "cell_type": "code",
   "execution_count": 10,
   "metadata": {},
   "outputs": [
    {
     "data": {
      "text/plain": [
       "{'vi': 23.412761211395264,\n",
       " 'slice': 1037.4737348556519,\n",
       " 'nuts': 4300.829827308655}"
      ]
     },
     "execution_count": 10,
     "metadata": {},
     "output_type": "execute_result"
    }
   ],
   "source": [
    "timings"
   ]
  },
  {
   "cell_type": "code",
   "execution_count": 11,
   "metadata": {},
   "outputs": [],
   "source": [
    "from sbi.utils.metrics import c2st"
   ]
  },
  {
   "cell_type": "code",
   "execution_count": 12,
   "metadata": {},
   "outputs": [
    {
     "data": {
      "text/plain": [
       "tensor([0.5918])"
      ]
     },
     "execution_count": 12,
     "metadata": {},
     "output_type": "execute_result"
    }
   ],
   "source": [
    "c2st(vi_samples, reference_samples)"
   ]
  },
  {
   "cell_type": "code",
   "execution_count": 13,
   "metadata": {},
   "outputs": [
    {
     "data": {
      "text/plain": [
       "tensor([0.6102])"
      ]
     },
     "execution_count": 13,
     "metadata": {},
     "output_type": "execute_result"
    }
   ],
   "source": [
    "c2st(reference_samples, slice_samples)"
   ]
  },
  {
   "cell_type": "code",
   "execution_count": 14,
   "metadata": {},
   "outputs": [
    {
     "data": {
      "text/plain": [
       "tensor([0.6146])"
      ]
     },
     "execution_count": 14,
     "metadata": {},
     "output_type": "execute_result"
    }
   ],
   "source": [
    "c2st(reference_samples, nuts_samples)"
   ]
  },
  {
   "cell_type": "code",
   "execution_count": 13,
   "metadata": {},
   "outputs": [
    {
     "data": {
      "text/plain": [
       "tensor([0.5257])"
      ]
     },
     "execution_count": 13,
     "metadata": {},
     "output_type": "execute_result"
    }
   ],
   "source": [
    "c2st(vi_samples, slice_samples)"
   ]
  },
  {
   "cell_type": "code",
   "execution_count": 14,
   "metadata": {},
   "outputs": [
    {
     "data": {
      "text/plain": [
       "tensor([0.5189])"
      ]
     },
     "execution_count": 14,
     "metadata": {},
     "output_type": "execute_result"
    }
   ],
   "source": [
    "c2st(vi_samples, nuts_samples)"
   ]
  },
  {
   "cell_type": "code",
   "execution_count": 15,
   "metadata": {},
   "outputs": [
    {
     "data": {
      "text/plain": [
       "tensor([0.5040])"
      ]
     },
     "execution_count": 15,
     "metadata": {},
     "output_type": "execute_result"
    }
   ],
   "source": [
    "c2st(slice_samples, nuts_samples)"
   ]
  },
  {
   "cell_type": "code",
   "execution_count": null,
   "metadata": {},
   "outputs": [],
   "source": []
  }
 ],
 "metadata": {
  "interpreter": {
   "hash": "29bace33d111355690a65ce401e20e51c45a9fd14858a04fc9aac7364cb4c1df"
  },
  "kernelspec": {
   "display_name": "Python 3 (ipykernel)",
   "language": "python",
   "name": "python3"
  },
  "language_info": {
   "codemirror_mode": {
    "name": "ipython",
    "version": 3
   },
   "file_extension": ".py",
   "mimetype": "text/x-python",
   "name": "python",
   "nbconvert_exporter": "python",
   "pygments_lexer": "ipython3",
   "version": "3.7.11"
  }
 },
 "nbformat": 4,
 "nbformat_minor": 2
}
