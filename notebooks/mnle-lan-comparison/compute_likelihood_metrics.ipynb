{
 "cells": [
  {
   "cell_type": "code",
   "execution_count": 1,
   "metadata": {},
   "outputs": [
    {
     "name": "stdout",
     "output_type": "stream",
     "text": [
      "seed 223174\n"
     ]
    }
   ],
   "source": [
    "import pickle\n",
    "import torch\n",
    "import numpy as np\n",
    "import sbibm\n",
    "import matplotlib.pyplot as plt\n",
    "\n",
    "from joblib import Parallel, delayed\n",
    "from pathlib import Path\n",
    "\n",
    "import lanfactory\n",
    "\n",
    "# Plotting settings\n",
    "plt.style.use('../plotting_settings.mplstyle')\n",
    "# Colorblind color palette\n",
    "colors = ['#377eb8', '#ff7f00', '#4daf4a',\n",
    "                  '#f781bf', '#a65628', '#984ea3',\n",
    "                  '#999999', '#e41a1c', '#dede00']\n",
    "\n",
    "# Fix seed for figures.\n",
    "seed = 223174 #torch.randint(1000000, (1,))\n",
    "torch.manual_seed(seed)\n",
    "print(f\"seed {seed}\")\n",
    "\n",
    "BASE_DIR = Path.cwd().parent.parent.as_posix()\n",
    "data_folder = BASE_DIR + \"/data/\"\n",
    "model_folder = BASE_DIR + \"/notebooks/mnle-lan-comparison/models/\"\n",
    "save_folder = BASE_DIR + \"/data/results/\"\n",
    "\n",
    "# Set log-likelihood lower bound for all methods, use 1e-7 as the highest bound used during training (e.g., for 10^11 budget LANs).\n",
    "l_lower_bound = 1e-7\n",
    "LL_LOWER_BOUND = np.log(l_lower_bound)"
   ]
  },
  {
   "cell_type": "code",
   "execution_count": 2,
   "metadata": {},
   "outputs": [],
   "source": [
    "# Load pre-simulated training data\n",
    "with open(data_folder + \"ddm_training_and_test_data_10mio.p\", \"rb\") as fh:\n",
    "    theta, x_1d, xos_1d, thos = pickle.load(fh).values()\n",
    "\n",
    "num_simulations = 10_000\n",
    "\n",
    "theta = theta[:num_simulations]\n",
    "\n",
    "# encode x as (time, choice)\n",
    "x = torch.zeros((num_simulations, 2))\n",
    "x[:, 0] = abs(x_1d[:num_simulations, 0])\n",
    "x[x_1d[:num_simulations, 0] > 0, 1] = 1\n",
    "\n",
    "# encode xos as (time, choice)\n",
    "xos = torch.zeros((xos_1d.shape[0], 2))\n",
    "xos[:, 0] = abs(xos_1d[:, 0])\n",
    "xos[xos_1d[:, 0] > 0, 1] = 1"
   ]
  },
  {
   "cell_type": "markdown",
   "metadata": {},
   "source": [
    "## Calculate metrics from pre-trained models"
   ]
  },
  {
   "cell_type": "code",
   "execution_count": 4,
   "metadata": {},
   "outputs": [],
   "source": [
    "# load one pre-trained model\n",
    "with open(model_folder + \"mnle_n100000_0_0.p\", \"rb\") as fh:\n",
    "    mnle = pickle.load(fh)"
   ]
  },
  {
   "cell_type": "code",
   "execution_count": 5,
   "metadata": {},
   "outputs": [],
   "source": [
    "seed = torch.randint(100000, (1,)).item()\n",
    "\n",
    "task = sbibm.get_task(\"ddm\")\n",
    "prior = task.get_prior_dist()\n",
    "simulator = task.get_simulator(seed=seed) # Passing the seed to Julia."
   ]
  },
  {
   "cell_type": "markdown",
   "metadata": {},
   "source": [
    "### Show single likelihood"
   ]
  },
  {
   "cell_type": "code",
   "execution_count": 6,
   "metadata": {},
   "outputs": [
    {
     "data": {
      "text/plain": [
       "tensor([[-0.4356,  1.7878,  0.5795,  0.5698]])"
      ]
     },
     "execution_count": 6,
     "metadata": {},
     "output_type": "execute_result"
    }
   ],
   "source": [
    "# Sample one parameter from the prior for a likelihood example.\n",
    "theta_o = prior.sample((1,))\n",
    "theta_o"
   ]
  },
  {
   "cell_type": "code",
   "execution_count": 7,
   "metadata": {},
   "outputs": [],
   "source": [
    "# RT range\n",
    "test_tmax = 5\n",
    "# Number of test points\n",
    "ntest = 1000\n",
    "rs = torch.cat((torch.linspace(test_tmax, l_lower_bound, ntest//2), \n",
    "           torch.linspace(l_lower_bound, test_tmax, ntest//2))).reshape(-1, 1)\n",
    "cs = torch.cat((torch.zeros(ntest//2), \n",
    "           torch.ones(ntest//2))).reshape(-1, 1)\n",
    "\n",
    "test_x = torch.hstack((rs, cs))\n",
    "test_rts = torch.linspace(-test_tmax, test_tmax, ntest)"
   ]
  },
  {
   "cell_type": "code",
   "execution_count": 8,
   "metadata": {},
   "outputs": [
    {
     "name": "stderr",
     "output_type": "stream",
     "text": [
      "/home/janfb/.local/lib/python3.7/site-packages/julia/core.py:691: FutureWarning: Accessing `Julia().<name>` to obtain Julia objects is deprecated.  Use `from julia import Main; Main.<name>` or `jl = Julia(); jl.eval('<name>')`.\n",
      "  FutureWarning,\n"
     ]
    }
   ],
   "source": [
    "# get NLE synthetic likelihood for each data point with fixed theta.\n",
    "lps_mnle = mnle.log_prob(test_x, theta_o.repeat(test_x.shape[0], 1)).detach()\n",
    "\n",
    "# from analytical likelihood\n",
    "lps_true = torch.tensor([task.get_log_likelihood(theta_o, d.reshape(-1, 1), l_lower_bound=l_lower_bound) \n",
    "                     for d in test_rts])\n"
   ]
  },
  {
   "cell_type": "code",
   "execution_count": 9,
   "metadata": {},
   "outputs": [
    {
     "data": {
      "image/png": "[encoded data removed]",
      "text/plain": [
       "<Figure size 432x288 with 1 Axes>"
      ]
     },
     "metadata": {
      "needs_background": "light"
     },
     "output_type": "display_data"
    }
   ],
   "source": [
    "import matplotlib.pyplot as plt\n",
    "import numpy as np\n",
    "\n",
    "labels = [\"Analytical\", \n",
    "          \"MNLE\", \n",
    "         ]\n",
    "xticks = np.arange(-4, 5, 2)\n",
    "\n",
    "plt.plot(test_rts, lps_true.exp(), label=\"Analytical L\", c=colors[0]);\n",
    "plt.plot(test_rts, lps_mnle.exp(), label=\"MNLE\", ls=\"-\", c=colors[2]);\n",
    "plt.ylabel(r\"$L(x | \\theta)$\");\n",
    "plt.legend(labels)\n",
    "plt.xticks(xticks, []);"
   ]
  },
  {
   "cell_type": "markdown",
   "metadata": {},
   "source": [
    "### Systematic comparison"
   ]
  },
  {
   "cell_type": "code",
   "execution_count": 10,
   "metadata": {},
   "outputs": [],
   "source": [
    "# Define losses.\n",
    "def huber_loss(y, yhat):\n",
    "    diff = abs(y-yhat)\n",
    "    \n",
    "    err = np.zeros(y.numel())\n",
    "    err[diff <= 1.0] = 0.5 * diff[diff <= 1.0]**2\n",
    "    err[diff > 1.0] = 0.5 + diff[diff > 1.0]\n",
    "    return err.mean()\n",
    "\n",
    "def mean_squared_error(y, yhat):\n",
    "    return torch.mean((y - yhat)**2)"
   ]
  },
  {
   "cell_type": "code",
   "execution_count": 94,
   "metadata": {},
   "outputs": [],
   "source": [
    "def score_mnle(path_to_model, num_observations, num_thetas_per_observation):\n",
    "\n",
    "    # load model\n",
    "    with open(path_to_model, \"rb\") as fh:\n",
    "        mnle, *_ = pickle.load(fh).values()\n",
    "\n",
    "    errors = []\n",
    "    for idx in range(num_observations):\n",
    "        # Sample test thetas from prior.\n",
    "        test_thetas = thos[idx][:num_thetas_per_observation]\n",
    "        xoi = xos_1d[idx].reshape(-1, 1)\n",
    "\n",
    "        # Evaluate\n",
    "        lps_mnle_i = mnle.log_prob(xos[idx].repeat(num_thetas_per_observation, 1), test_thetas).detach()\n",
    "\n",
    "        # apply lower bound\n",
    "        below_bound = lps_mnle_i < LL_LOWER_BOUND\n",
    "        lps_mnle_i[below_bound] = LL_LOWER_BOUND\n",
    "        lps_true_i = task.get_log_likelihood(test_thetas, data=xoi.reshape(1, -1), l_lower_bound=np.exp(LL_LOWER_BOUND))\n",
    "\n",
    "        # Score\n",
    "        errors.append([\n",
    "            huber_loss(lps_mnle_i, lps_true_i),\n",
    "            huber_loss(lps_mnle_i.exp(), lps_true_i.exp()),\n",
    "            mean_squared_error(lps_mnle_i, lps_true_i),\n",
    "            mean_squared_error(lps_mnle_i.exp(), lps_true_i.exp()),\n",
    "            ])\n",
    "\n",
    "    return np.array(errors)\n",
    "\n",
    "from torch.distributions.transforms import AffineTransform\n",
    "# Transform scales param \"a\" by 0.5\n",
    "lan_transform = AffineTransform(torch.zeros(1, 4), torch.tensor([[1.0, 0.5, 1.0, 1.0]]))\n",
    "\n",
    "def lan_likelihood(theta, data, net):\n",
    "    \"\"\"Return log likelihood summed over all trials in data, \n",
    "        given a batch of parameters theta.\n",
    "    \n",
    "    Args\n",
    "        theta: batch of parameters\n",
    "        data: batch of iid reaction times and choices encoded\n",
    "            as negative and positive reaction times. \n",
    "        net: lan keras model\n",
    "        \n",
    "    Returns\n",
    "        llsum: batch of log likelihoods over trials. \n",
    "    \"\"\"\n",
    "    \n",
    "    # Convert to positive rts.\n",
    "    rts = abs(data)\n",
    "    num_trials = rts.numel()\n",
    "    assert num_trials == 1, \"this function assumes single trials.\"\n",
    "    num_parameters = theta.shape[0]\n",
    "    assert rts.shape == torch.Size([num_trials, 1])\n",
    "    theta = torch.tensor(theta, dtype=torch.float32)\n",
    "    # Convert DDM boundary seperation to symmetric boundary size.\n",
    "    theta_lan = theta\n",
    "    # lan_transform(theta)\n",
    "\n",
    "    # Code down -1 up +1.\n",
    "    cs = torch.ones_like(rts)\n",
    "    cs[data < 0] *= -1\n",
    "\n",
    "    batch = torch.hstack((theta_lan, rts.repeat(num_parameters, 1), cs.repeat(num_parameters, 1)))\n",
    "\n",
    "    # Evaluate LAN on batch (as suggested in LANfactory README.)\n",
    "    logabsdet = lan_transform.log_abs_det_jacobian(theta_lan, theta)\n",
    "    return net(batch).squeeze() #+ logabsdet.sum(1)\n",
    "\n",
    "def score_lan(network_file_path, num_observations, num_thetas_per_observation):\n",
    "\n",
    "    # get network config from model folder.\n",
    "    with open(list(network_file_path.parent.glob(\"*_network_config.pickle\"))[0], \"rb\") as fh:\n",
    "        network_config = pickle.load(fh)\n",
    "\n",
    "    # load model\n",
    "    network = lanfactory.trainers.LoadTorchMLPInfer(model_file_path = network_file_path,\n",
    "                                                network_config = network_config,\n",
    "                                                input_dim = 6)  # 4 params plus 2 data dims\n",
    "\n",
    "    errors = []\n",
    "    for idx in range(num_observations):\n",
    "        # Sample test thetas from prior.\n",
    "        test_thetas = thos[idx][:num_thetas_per_observation]\n",
    "        xoi = xos_1d[idx].reshape(-1, 1)\n",
    "        \n",
    "        # Evaluate\n",
    "        lps_lankde_i = lan_likelihood(test_thetas, xoi, network)\n",
    "        # apply lower bound\n",
    "        below_bound = lps_lankde_i < LL_LOWER_BOUND\n",
    "        lps_lankde_i[below_bound] = LL_LOWER_BOUND\n",
    "        lps_true_i = task.get_log_likelihood(test_thetas, data=xoi.reshape(1, -1), l_lower_bound=np.exp(LL_LOWER_BOUND))\n",
    "\n",
    "        # Score\n",
    "        errors.append([\n",
    "            huber_loss(lps_lankde_i, lps_true_i),\n",
    "            huber_loss(lps_lankde_i.exp(), lps_true_i.exp()),\n",
    "            mean_squared_error(lps_lankde_i, lps_true_i),\n",
    "            mean_squared_error(lps_lankde_i.exp(), lps_true_i.exp()),\n",
    "            ])\n",
    "\n",
    "    return np.array(errors)\n"
   ]
  },
  {
   "cell_type": "markdown",
   "metadata": {},
   "source": [
    "### Calculate metrics for every trained model (~5min per budget)"
   ]
  },
  {
   "cell_type": "markdown",
   "metadata": {},
   "source": [
    "### LAN metrics"
   ]
  },
  {
   "cell_type": "code",
   "execution_count": 96,
   "metadata": {},
   "outputs": [
    {
     "name": "stdout",
     "output_type": "stream",
     "text": [
      "tanh\n",
      "linear\n"
     ]
    },
    {
     "name": "stderr",
     "output_type": "stream",
     "text": [
      "/home/janfb/anaconda3/envs/mnle/lib/python3.7/site-packages/ipykernel_launcher.py:55: UserWarning: To copy construct from a tensor, it is recommended to use sourceTensor.clone().detach() or sourceTensor.clone().detach().requires_grad_(True), rather than torch.tensor(sourceTensor).\n"
     ]
    }
   ],
   "source": [
    "num_workers = 1\n",
    "num_observations = 1000\n",
    "num_thetas_per_observation = 10000\n",
    "\n",
    "# set budget for which to calculate\n",
    "budget = \"10_6_ours\"\n",
    "model_folder = Path.cwd() / f\"data/torch_models/ddm_{budget}/\"  # Pathlib object\n",
    "model_paths = list(model_folder.glob(f\"*_ddm_{budget}_torch_state_dict.pt\"))\n",
    "# model_paths\n",
    "\n",
    "results = Parallel(n_jobs=num_workers)(\n",
    "    delayed(score_lan)(model_path, num_observations, num_thetas_per_observation) for model_path in model_paths\n",
    ")\n",
    "\n",
    "with open(save_folder + f\"lan_likelihood_metrics_n{budget}.p\", \"wb\") as fh:\n",
    "    pickle.dump(dict(\n",
    "        results=np.array(results),\n",
    "        num_observations=num_observations, \n",
    "        num_thetas_per_observation=num_thetas_per_observation, \n",
    "        model_paths=model_paths), fh)"
   ]
  },
  {
   "cell_type": "markdown",
   "metadata": {},
   "source": [
    "### MNLE metrics"
   ]
  },
  {
   "cell_type": "code",
   "execution_count": 13,
   "metadata": {},
   "outputs": [],
   "source": [
    "num_workers = 1\n",
    "num_observations = 1000\n",
    "num_thetas_per_observation = 10000\n",
    "\n",
    "# set budget for which to calculate\n",
    "budget = 1000000\n",
    "model_folder = Path.cwd() / \"models\"  # Pathlib object\n",
    "model_paths = list(model_folder.glob(f\"*n{budget}_new_*\"))\n",
    "# model_paths\n",
    "\n",
    "results = Parallel(n_jobs=num_workers)(\n",
    "    delayed(score_mnle)(model_path, num_observations, num_thetas_per_observation) for model_path in model_paths\n",
    ")\n",
    "\n",
    "with open(save_folder + f\"mnle_likelihood_metrics_n{budget}.p\", \"wb\") as fh:\n",
    "    pickle.dump(dict(\n",
    "        results=np.array(results),\n",
    "        num_observations=num_observations, \n",
    "        num_thetas_per_observation=num_thetas_per_observation, \n",
    "        model_paths=model_paths), fh)\n"
   ]
  },
  {
   "cell_type": "code",
   "execution_count": 100,
   "metadata": {},
   "outputs": [],
   "source": [
    "with open(save_folder + \"mnle_likelihood_metrics_n10000.p\", \"rb\") as fh:\n",
    "    results_10k, num_observations, num_thetas_per_observation, model_paths = pickle.load(fh).values()\n",
    "\n",
    "with open(save_folder + \"mnle_likelihood_metrics_n100000.p\", \"rb\") as fh:\n",
    "    results_100k, num_observations, num_thetas_per_observation, model_paths = pickle.load(fh).values()\n",
    "\n",
    "with open(save_folder + \"mnle_likelihood_metrics_n1000000.p\", \"rb\") as fh:\n",
    "    results_1000k, num_observations, num_thetas_per_observation, model_paths = pickle.load(fh).values()\n",
    "\n",
    "with open(save_folder + \"lan_likelihood_metrics_n10_4.p\", \"rb\") as fh:\n",
    "    results_10k_lan, num_observations, num_thetas_per_observation, model_paths = pickle.load(fh).values()\n",
    "\n",
    "with open(save_folder + \"lan_likelihood_metrics_n10_5.p\", \"rb\") as fh:\n",
    "    results_100k_lan, num_observations, num_thetas_per_observation, model_paths = pickle.load(fh).values()\n",
    "\n",
    "with open(save_folder + \"lan_likelihood_metrics_n10_6.p\", \"rb\") as fh:\n",
    "    results_1000k_lan, num_observations, num_thetas_per_observation, model_paths = pickle.load(fh).values()\n",
    "\n",
    "with open(save_folder + \"lan_likelihood_metrics_n10_8_ours.p\", \"rb\") as fh:\n",
    "    results_100000k_lan, num_observations, num_thetas_per_observation, model_paths = pickle.load(fh).values()\n",
    "\n",
    "with open(save_folder + \"lan_likelihood_metrics_n10_7.p\", \"rb\") as fh:\n",
    "    results_10000k_lan, num_observations, num_thetas_per_observation, model_paths = pickle.load(fh).values()\n",
    "\n",
    "with open(save_folder + \"lan_likelihood_metrics_n10_11.p\", \"rb\") as fh:\n",
    "    results_10_11_lan, num_observations, num_thetas_per_observation, model_paths = pickle.load(fh).values()\n"
   ]
  },
  {
   "cell_type": "code",
   "execution_count": 101,
   "metadata": {},
   "outputs": [
    {
     "data": {
      "text/plain": [
       "(10, 1000, 4)"
      ]
     },
     "execution_count": 101,
     "metadata": {},
     "output_type": "execute_result"
    }
   ],
   "source": [
    "results_1000k_lan.shape"
   ]
  },
  {
   "cell_type": "code",
   "execution_count": 102,
   "metadata": {},
   "outputs": [],
   "source": [
    "metrics = []\n",
    "metrics_lan = []\n",
    "\n",
    "for ii in range(4):\n",
    "    metrics.append(np.vstack((results_10k.mean(1)[:, ii], results_100k.mean(1)[:, ii], results_1000k.mean(1)[:10, ii])).T)\n",
    "    metrics_lan.append(np.vstack((results_10k_lan.mean(1)[:, ii], results_100k_lan.mean(1)[:, ii], \n",
    "        results_1000k_lan.mean(1)[:, ii], # results_10000k_lan.mean(1)[:, ii]\n",
    "        )).T)\n",
    "\n",
    "metrics = np.array(metrics)\n",
    "metrics_lan = np.array(metrics_lan)"
   ]
  },
  {
   "cell_type": "code",
   "execution_count": 103,
   "metadata": {},
   "outputs": [
    {
     "data": {
      "text/plain": [
       "(array([[9.29757440e-01, 3.42089033e-01, 1.36688913e-01],\n",
       "        [1.60344044e-02, 3.87277068e-03, 1.64021046e-03],\n",
       "        [5.47505700e+00, 1.69908631e+00, 6.17124857e-01],\n",
       "        [3.41200810e-02, 7.59002149e-03, 3.18347416e-03]]),\n",
       " array([[ 2.27115991,  1.61731971,  1.35277034],\n",
       "        [ 0.08996776,  0.08361086,  0.08055558],\n",
       "        [18.83398216, 11.11521409, 10.78480848],\n",
       "        [ 0.18547468,  0.18369715,  0.16096341]]),\n",
       " (4, 10, 3))"
      ]
     },
     "execution_count": 103,
     "metadata": {},
     "output_type": "execute_result"
    }
   ],
   "source": [
    "metrics.mean(1), metrics_lan.mean(1), metrics.shape"
   ]
  },
  {
   "cell_type": "markdown",
   "metadata": {},
   "source": [
    "### Simple comparison plot"
   ]
  },
  {
   "cell_type": "code",
   "execution_count": 106,
   "metadata": {},
   "outputs": [
    {
     "data": {
      "image/png": "[encoded data removed]",
      "text/plain": [
       "<Figure size 864x360 with 2 Axes>"
      ]
     },
     "metadata": {
      "needs_background": "light"
     },
     "output_type": "display_data"
    }
   ],
   "source": [
    "fig, ax = plt.subplots(1, 2, figsize=(12, 5), sharex=True)\n",
    "# labels = [\"Huber loss (log)\", \"Huber loss\", \"MSE (log)\", \"MSE\"]\n",
    "labels = [\"Huber loss (log)\", \"MSE (log)\"]\n",
    "budgets = [r\"$10^4$\", r\"$10^5$\", r\"$10^6$\"]\n",
    "axidx = 0\n",
    "for idx, m in enumerate(metrics):\n",
    "    if idx in [0, 2]:\n",
    "        plt.sca(ax[axidx])\n",
    "        plt.errorbar(budgets, m.mean(0), m.std(0)/np.sqrt(m.shape[0]), label=\"MNLE\", color=colors[2])\n",
    "        plt.errorbar(budgets, metrics_lan[idx].mean(0), metrics_lan[idx].std(0)/np.sqrt(metrics_lan[idx].shape[0]), label=\"LAN\", color=colors[1])\n",
    "        plt.plot([r\"$10^{8}$\"], results_100000k_lan.mean(1).mean(0)[idx], color=colors[1], marker=\"^\")\n",
    "        plt.plot([r\"$10^{11}$\"], results_10_11_lan.mean(1).mean(0)[idx], color=colors[1], marker=\"*\")\n",
    "        plt.ylabel(labels[axidx])\n",
    "        plt.legend()\n",
    "        plt.xlabel(\"budget\")\n",
    "        axidx += 1\n",
    "plt.tight_layout()"
   ]
  },
  {
   "cell_type": "code",
   "execution_count": null,
   "metadata": {},
   "outputs": [],
   "source": []
  }
 ],
 "metadata": {
  "interpreter": {
   "hash": "29bace33d111355690a65ce401e20e51c45a9fd14858a04fc9aac7364cb4c1df"
  },
  "kernelspec": {
   "display_name": "Python 3.7.11 ('mnle')",
   "language": "python",
   "name": "python3"
  },
  "language_info": {
   "codemirror_mode": {
    "name": "ipython",
    "version": 3
   },
   "file_extension": ".py",
   "mimetype": "text/x-python",
   "name": "python",
   "nbconvert_exporter": "python",
   "pygments_lexer": "ipython3",
   "version": "3.7.11"
  },
  "orig_nbformat": 4
 },
 "nbformat": 4,
 "nbformat_minor": 2
}
