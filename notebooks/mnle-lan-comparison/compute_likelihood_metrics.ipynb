{
 "cells": [
  {
   "cell_type": "code",
   "execution_count": 2,
   "metadata": {},
   "outputs": [
    {
     "name": "stdout",
     "output_type": "stream",
     "text": [
      "seed 223174\n"
     ]
    }
   ],
   "source": [
    "import pickle\n",
    "import torch\n",
    "import numpy as np\n",
    "import sbibm\n",
    "import matplotlib.pyplot as plt\n",
    "\n",
    "from joblib import Parallel, delayed\n",
    "from pathlib import Path\n",
    "\n",
    "import lanfactory\n",
    "\n",
    "# Plotting settings\n",
    "plt.style.use('../plotting_settings.mplstyle')\n",
    "# Colorblind color palette\n",
    "colors = ['#377eb8', '#ff7f00', '#4daf4a',\n",
    "                  '#f781bf', '#a65628', '#984ea3',\n",
    "                  '#999999', '#e41a1c', '#dede00']\n",
    "\n",
    "# Fix seed for figures.\n",
    "seed = 223174 #torch.randint(1000000, (1,))\n",
    "torch.manual_seed(seed)\n",
    "print(f\"seed {seed}\")\n",
    "\n",
    "BASE_DIR = Path.cwd().parent.parent.as_posix()\n",
    "data_folder = BASE_DIR + \"/data/\"\n",
    "model_folder = BASE_DIR + \"/notebooks/mnle-lan-comparison/models/\"\n",
    "save_folder = BASE_DIR + \"/data/results/\"\n",
    "\n",
    "# Set log-likelihood lower bound for all methods, use 1e-7 as the highest bound used during training (e.g., for 10^11 budget LANs).\n",
    "l_lower_bound = 1e-7\n",
    "LL_LOWER_BOUND = np.log(l_lower_bound)"
   ]
  },
  {
   "cell_type": "code",
   "execution_count": 3,
   "metadata": {},
   "outputs": [],
   "source": [
    "# Load pre-simulated training data\n",
    "with open(data_folder + \"ddm_training_and_test_data_10mio.p\", \"rb\") as fh:\n",
    "    theta, x_1d, xos_1d, thos = pickle.load(fh).values()\n",
    "\n",
    "num_simulations = 10_000\n",
    "\n",
    "theta = theta[:num_simulations]\n",
    "\n",
    "# encode x as (time, choice)\n",
    "x = torch.zeros((num_simulations, 2))\n",
    "x[:, 0] = abs(x_1d[:num_simulations, 0])\n",
    "x[x_1d[:num_simulations, 0] > 0, 1] = 1\n",
    "\n",
    "# encode xos as (time, choice)\n",
    "xos = torch.zeros((xos_1d.shape[0], 2))\n",
    "xos[:, 0] = abs(xos_1d[:, 0])\n",
    "xos[xos_1d[:, 0] > 0, 1] = 1"
   ]
  },
  {
   "cell_type": "markdown",
   "metadata": {},
   "source": [
    "## Calculate metrics from pre-trained models"
   ]
  },
  {
   "cell_type": "code",
   "execution_count": 4,
   "metadata": {},
   "outputs": [],
   "source": [
    "# load one pre-trained model\n",
    "with open(model_folder + \"mnle_n100000_0_0.p\", \"rb\") as fh:\n",
    "    mnle = pickle.load(fh)"
   ]
  },
  {
   "cell_type": "code",
   "execution_count": 4,
   "metadata": {},
   "outputs": [],
   "source": [
    "seed = torch.randint(100000, (1,)).item()\n",
    "\n",
    "task = sbibm.get_task(\"ddm\")\n",
    "prior = task.get_prior_dist()\n",
    "simulator = task.get_simulator(seed=seed) # Passing the seed to Julia."
   ]
  },
  {
   "cell_type": "markdown",
   "metadata": {},
   "source": [
    "### Show single likelihood"
   ]
  },
  {
   "cell_type": "code",
   "execution_count": 6,
   "metadata": {},
   "outputs": [
    {
     "data": {
      "text/plain": [
       "tensor([[-0.4356,  1.7878,  0.5795,  0.5698]])"
      ]
     },
     "execution_count": 6,
     "metadata": {},
     "output_type": "execute_result"
    }
   ],
   "source": [
    "# Sample one parameter from the prior for a likelihood example.\n",
    "theta_o = prior.sample((1,))\n",
    "theta_o"
   ]
  },
  {
   "cell_type": "code",
   "execution_count": 7,
   "metadata": {},
   "outputs": [],
   "source": [
    "# RT range\n",
    "test_tmax = 5\n",
    "# Number of test points\n",
    "ntest = 1000\n",
    "rs = torch.cat((torch.linspace(test_tmax, l_lower_bound, ntest//2), \n",
    "           torch.linspace(l_lower_bound, test_tmax, ntest//2))).reshape(-1, 1)\n",
    "cs = torch.cat((torch.zeros(ntest//2), \n",
    "           torch.ones(ntest//2))).reshape(-1, 1)\n",
    "\n",
    "test_x = torch.hstack((rs, cs))\n",
    "test_rts = torch.linspace(-test_tmax, test_tmax, ntest)"
   ]
  },
  {
   "cell_type": "code",
   "execution_count": 8,
   "metadata": {},
   "outputs": [
    {
     "name": "stderr",
     "output_type": "stream",
     "text": [
      "/home/janfb/.local/lib/python3.7/site-packages/julia/core.py:691: FutureWarning: Accessing `Julia().<name>` to obtain Julia objects is deprecated.  Use `from julia import Main; Main.<name>` or `jl = Julia(); jl.eval('<name>')`.\n",
      "  FutureWarning,\n"
     ]
    }
   ],
   "source": [
    "# get NLE synthetic likelihood for each data point with fixed theta.\n",
    "lps_mnle = mnle.log_prob(test_x, theta_o.repeat(test_x.shape[0], 1)).detach()\n",
    "\n",
    "# from analytical likelihood\n",
    "lps_true = torch.tensor([task.get_log_likelihood(theta_o, d.reshape(-1, 1), l_lower_bound=l_lower_bound) \n",
    "                     for d in test_rts])\n"
   ]
  },
  {
   "cell_type": "code",
   "execution_count": 9,
   "metadata": {},
   "outputs": [
    {
     "data": {
      "image/png": "[encoded data removed]",
      "text/plain": [
       "<Figure size 432x288 with 1 Axes>"
      ]
     },
     "metadata": {
      "needs_background": "light"
     },
     "output_type": "display_data"
    }
   ],
   "source": [
    "import matplotlib.pyplot as plt\n",
    "import numpy as np\n",
    "\n",
    "labels = [\"Analytical\", \n",
    "          \"MNLE\", \n",
    "         ]\n",
    "xticks = np.arange(-4, 5, 2)\n",
    "\n",
    "plt.plot(test_rts, lps_true.exp(), label=\"Analytical L\", c=colors[0]);\n",
    "plt.plot(test_rts, lps_mnle.exp(), label=\"MNLE\", ls=\"-\", c=colors[2]);\n",
    "plt.ylabel(r\"$L(x | \\theta)$\");\n",
    "plt.legend(labels)\n",
    "plt.xticks(xticks, []);"
   ]
  },
  {
   "cell_type": "markdown",
   "metadata": {},
   "source": [
    "### Systematic comparison"
   ]
  },
  {
   "cell_type": "code",
   "execution_count": 10,
   "metadata": {},
   "outputs": [],
   "source": [
    "# Define losses.\n",
    "def huber_loss(y, yhat):\n",
    "    diff = abs(y-yhat)\n",
    "    \n",
    "    err = np.zeros(y.numel())\n",
    "    err[diff <= 1.0] = 0.5 * diff[diff <= 1.0]**2\n",
    "    err[diff > 1.0] = 0.5 + diff[diff > 1.0]\n",
    "    return err.mean()\n",
    "\n",
    "def mean_squared_error(y, yhat):\n",
    "    return torch.mean((y - yhat)**2)"
   ]
  },
  {
   "cell_type": "code",
   "execution_count": 5,
   "metadata": {},
   "outputs": [],
   "source": [
    "def score_mnle(path_to_model, num_observations, num_thetas_per_observation):\n",
    "\n",
    "    # load model\n",
    "    with open(path_to_model, \"rb\") as fh:\n",
    "        mnle, *_ = pickle.load(fh).values()\n",
    "\n",
    "    errors = []\n",
    "    for idx in range(num_observations):\n",
    "        # Sample test thetas from prior.\n",
    "        test_thetas = thos[idx][:num_thetas_per_observation]\n",
    "        xoi = xos_1d[idx].reshape(-1, 1)\n",
    "\n",
    "        # Evaluate\n",
    "        lps_mnle_i = mnle.log_prob(xos[idx].repeat(num_thetas_per_observation, 1), test_thetas).detach()\n",
    "\n",
    "        # apply lower bound\n",
    "        below_bound = lps_mnle_i < LL_LOWER_BOUND\n",
    "        lps_mnle_i[below_bound] = LL_LOWER_BOUND\n",
    "        lps_true_i = task.get_log_likelihood(test_thetas, data=xoi.reshape(1, -1), l_lower_bound=np.exp(LL_LOWER_BOUND))\n",
    "\n",
    "        # Score\n",
    "        errors.append([\n",
    "            huber_loss(lps_mnle_i, lps_true_i),\n",
    "            huber_loss(lps_mnle_i.exp(), lps_true_i.exp()),\n",
    "            mean_squared_error(lps_mnle_i, lps_true_i),\n",
    "            mean_squared_error(lps_mnle_i.exp(), lps_true_i.exp()),\n",
    "            ])\n",
    "\n",
    "    return np.array(errors)\n",
    "\n",
    "from torch.distributions.transforms import AffineTransform\n",
    "# Transform scales param \"a\" by 0.5\n",
    "lan_transform = AffineTransform(torch.zeros(1, 4), torch.tensor([[1.0, 0.5, 1.0, 1.0]]))\n",
    "\n",
    "def lan_likelihood(theta, data, net, transform=True):\n",
    "    \"\"\"Return log likelihood summed over all trials in data, \n",
    "        given a batch of parameters theta.\n",
    "    \n",
    "    Args\n",
    "        theta: batch of parameters\n",
    "        data: batch of iid reaction times and choices encoded\n",
    "            as negative and positive reaction times. \n",
    "        net: lan keras model\n",
    "        \n",
    "    Returns\n",
    "        llsum: batch of log likelihoods over trials. \n",
    "    \"\"\"\n",
    "    \n",
    "    # Convert to positive rts.\n",
    "    rts = abs(data)\n",
    "    num_trials = rts.numel()\n",
    "    assert num_trials == 1, \"this function assumes single trials.\"\n",
    "    num_parameters = theta.shape[0]\n",
    "    assert rts.shape == torch.Size([num_trials, 1])\n",
    "    theta = torch.tensor(theta, dtype=torch.float32)\n",
    "    # Convert DDM boundary seperation to symmetric boundary size.\n",
    "    theta_lan = lan_transform(theta) if transform else theta\n",
    "\n",
    "    # Code down -1 up +1.\n",
    "    cs = torch.ones_like(rts)\n",
    "    cs[data < 0] *= -1\n",
    "\n",
    "    batch = torch.hstack((theta_lan, rts.repeat(num_parameters, 1), cs.repeat(num_parameters, 1)))\n",
    "\n",
    "    # Evaluate LAN on batch (as suggested in LANfactory README.)\n",
    "    logabsdet = lan_transform.log_abs_det_jacobian(theta_lan, theta)\n",
    "    return net(batch).squeeze() #+ logabsdet.sum(1)\n",
    "\n",
    "def score_lan(network_file_path, num_observations, num_thetas_per_observation, transform=True):\n",
    "\n",
    "    # get network config from model folder.\n",
    "    with open(list(network_file_path.parent.glob(\"*_network_config.pickle\"))[0], \"rb\") as fh:\n",
    "        network_config = pickle.load(fh)\n",
    "\n",
    "    # load model\n",
    "    network = lanfactory.trainers.LoadTorchMLPInfer(model_file_path = network_file_path,\n",
    "                                                network_config = network_config,\n",
    "                                                input_dim = 6)  # 4 params plus 2 data dims\n",
    "\n",
    "    errors = []\n",
    "    for idx in range(num_observations):\n",
    "        # Sample test thetas from prior.\n",
    "        test_thetas = thos[idx][:num_thetas_per_observation]\n",
    "        xoi = xos_1d[idx].reshape(-1, 1)\n",
    "        \n",
    "        # Evaluate\n",
    "        lps_lankde_i = lan_likelihood(test_thetas, xoi, network, transform=transform)\n",
    "        # apply lower bound\n",
    "        below_bound = lps_lankde_i < LL_LOWER_BOUND\n",
    "        lps_lankde_i[below_bound] = LL_LOWER_BOUND\n",
    "        lps_true_i = task.get_log_likelihood(test_thetas, data=xoi.reshape(1, -1), l_lower_bound=np.exp(LL_LOWER_BOUND))\n",
    "\n",
    "        # Score\n",
    "        errors.append([\n",
    "            huber_loss(lps_lankde_i, lps_true_i),\n",
    "            huber_loss(lps_lankde_i.exp(), lps_true_i.exp()),\n",
    "            mean_squared_error(lps_lankde_i, lps_true_i),\n",
    "            mean_squared_error(lps_lankde_i.exp(), lps_true_i.exp()),\n",
    "            ])\n",
    "\n",
    "    return np.array(errors)\n"
   ]
  },
  {
   "cell_type": "markdown",
   "metadata": {},
   "source": [
    "### Calculate metrics for every trained model (~5min per budget)"
   ]
  },
  {
   "cell_type": "markdown",
   "metadata": {},
   "source": [
    "### LAN metrics"
   ]
  },
  {
   "cell_type": "code",
   "execution_count": 26,
   "metadata": {},
   "outputs": [
    {
     "name": "stdout",
     "output_type": "stream",
     "text": [
      "tanh\n",
      "linear\n"
     ]
    },
    {
     "name": "stderr",
     "output_type": "stream",
     "text": [
      "/home/janfb/anaconda3/envs/mnle/lib/python3.7/site-packages/ipykernel_launcher.py:55: UserWarning: To copy construct from a tensor, it is recommended to use sourceTensor.clone().detach() or sourceTensor.clone().detach().requires_grad_(True), rather than torch.tensor(sourceTensor).\n"
     ]
    },
    {
     "name": "stdout",
     "output_type": "stream",
     "text": [
      "tanh\n",
      "linear\n",
      "tanh\n",
      "linear\n",
      "tanh\n",
      "linear\n",
      "tanh\n",
      "linear\n",
      "tanh\n",
      "linear\n",
      "tanh\n",
      "linear\n",
      "tanh\n",
      "linear\n",
      "tanh\n",
      "linear\n",
      "tanh\n",
      "linear\n"
     ]
    }
   ],
   "source": [
    "num_workers = 1\n",
    "num_observations = 1000\n",
    "num_thetas_per_observation = 10000\n",
    "\n",
    "# set budget for which to calculate\n",
    "budget = \"10_5_ours\"\n",
    "transform = False\n",
    "model_folder = Path.cwd() / f\"data/torch_models/ddm_{budget}/\"  # Pathlib object\n",
    "model_paths = list(model_folder.glob(f\"*_ddm_{budget}_torch_state_dict.pt\"))\n",
    "# model_paths\n",
    "\n",
    "results = Parallel(n_jobs=num_workers)(\n",
    "    delayed(score_lan)(model_path, num_observations, num_thetas_per_observation, transform=transform) for model_path in model_paths\n",
    ")\n",
    "\n",
    "with open(save_folder + f\"lan_likelihood_metrics_n{budget}.p\", \"wb\") as fh:\n",
    "    pickle.dump(dict(\n",
    "        results=np.array(results),\n",
    "        num_observations=num_observations, \n",
    "        num_thetas_per_observation=num_thetas_per_observation, \n",
    "        model_paths=model_paths), fh)"
   ]
  },
  {
   "cell_type": "markdown",
   "metadata": {},
   "source": [
    "### MNLE metrics"
   ]
  },
  {
   "cell_type": "code",
   "execution_count": 13,
   "metadata": {},
   "outputs": [],
   "source": [
    "num_workers = 1\n",
    "num_observations = 1000\n",
    "num_thetas_per_observation = 10000\n",
    "\n",
    "# set budget for which to calculate\n",
    "budget = 1000000\n",
    "model_folder = Path.cwd() / \"models\"  # Pathlib object\n",
    "model_paths = list(model_folder.glob(f\"*n{budget}_new_*\"))\n",
    "# model_paths\n",
    "\n",
    "results = Parallel(n_jobs=num_workers)(\n",
    "    delayed(score_mnle)(model_path, num_observations, num_thetas_per_observation) for model_path in model_paths\n",
    ")\n",
    "\n",
    "with open(save_folder + f\"mnle_likelihood_metrics_n{budget}.p\", \"wb\") as fh:\n",
    "    pickle.dump(dict(\n",
    "        results=np.array(results),\n",
    "        num_observations=num_observations, \n",
    "        num_thetas_per_observation=num_thetas_per_observation, \n",
    "        model_paths=model_paths), fh)\n"
   ]
  },
  {
   "cell_type": "code",
   "execution_count": 6,
   "metadata": {},
   "outputs": [],
   "source": [
    "with open(save_folder + \"mnle_likelihood_metrics_n10000.p\", \"rb\") as fh:\n",
    "    results_10k, num_observations, num_thetas_per_observation, model_paths = pickle.load(fh).values()\n",
    "\n",
    "with open(save_folder + \"mnle_likelihood_metrics_n100000.p\", \"rb\") as fh:\n",
    "    results_100k, num_observations, num_thetas_per_observation, model_paths = pickle.load(fh).values()\n",
    "\n",
    "with open(save_folder + \"mnle_likelihood_metrics_n1000000.p\", \"rb\") as fh:\n",
    "    results_1000k, num_observations, num_thetas_per_observation, model_paths = pickle.load(fh).values()\n",
    "\n",
    "with open(save_folder + \"lan_likelihood_metrics_n10_4.p\", \"rb\") as fh:\n",
    "    results_10k_lan, num_observations, num_thetas_per_observation, model_paths = pickle.load(fh).values()\n",
    "\n",
    "with open(save_folder + \"lan_likelihood_metrics_n10_5_ours.p\", \"rb\") as fh:\n",
    "    results_100k_lan, num_observations, num_thetas_per_observation, model_paths = pickle.load(fh).values()\n",
    "\n",
    "with open(save_folder + \"lan_likelihood_metrics_n10_6_ours.p\", \"rb\") as fh:\n",
    "    results_1000k_lan, num_observations, num_thetas_per_observation, model_paths = pickle.load(fh).values()\n",
    "\n",
    "with open(save_folder + \"lan_likelihood_metrics_n10_8_ours.p\", \"rb\") as fh:\n",
    "    results_100000k_lan, num_observations, num_thetas_per_observation, model_paths = pickle.load(fh).values()\n",
    "\n",
    "with open(save_folder + \"lan_likelihood_metrics_n10_7.p\", \"rb\") as fh:\n",
    "    results_10000k_lan, num_observations, num_thetas_per_observation, model_paths = pickle.load(fh).values()\n",
    "\n",
    "with open(save_folder + \"lan_likelihood_metrics_n10_11.p\", \"rb\") as fh:\n",
    "    results_10_11_lan, num_observations, num_thetas_per_observation, model_paths = pickle.load(fh).values()\n"
   ]
  },
  {
   "cell_type": "code",
   "execution_count": 5,
   "metadata": {},
   "outputs": [
    {
     "data": {
      "text/plain": [
       "(10, 1000, 4)"
      ]
     },
     "execution_count": 5,
     "metadata": {},
     "output_type": "execute_result"
    }
   ],
   "source": [
    "results_1000k_lan.shape"
   ]
  },
  {
   "cell_type": "code",
   "execution_count": 11,
   "metadata": {},
   "outputs": [],
   "source": [
    "metrics = []\n",
    "metrics_lan = []\n",
    "\n",
    "for ii in range(4):\n",
    "    metrics.append(np.vstack((results_10k.mean(1)[:, ii], results_100k.mean(1)[:, ii], results_1000k.mean(1)[:10, ii])).T)\n",
    "    metrics_lan.append(np.vstack((results_10k_lan.mean(1)[:, ii], results_100k_lan.mean(1)[:, ii], \n",
    "        # results_1000k_lan.mean(1)[:, ii], \n",
    "        # results_100000k_lan.mean(1)[:, ii]\n",
    "        )).T)\n",
    "\n",
    "metrics = np.array(metrics)\n",
    "metrics_lan = np.array(metrics_lan)"
   ]
  },
  {
   "cell_type": "code",
   "execution_count": 15,
   "metadata": {},
   "outputs": [
    {
     "data": {
      "text/plain": [
       "array([1.92745971e-02, 7.01295764e-06, 2.83922911e-02, 2.80554981e-02,\n",
       "       2.38927310e-02, 2.31260384e-02, 2.21224917e-02, 2.47977714e-02,\n",
       "       1.91749702e-02, 1.92019201e-02, 2.16188976e-02, 2.14349004e-02,\n",
       "       2.47825703e-02, 2.47210859e-02, 1.62447877e-03, 2.45423416e-02,\n",
       "       2.85097633e-02, 1.88032369e-05, 2.07401766e-02, 2.36854216e-02,\n",
       "       2.58190014e-02, 2.51409660e-02, 2.71790808e-02, 2.38153922e-02,\n",
       "       1.69712308e-05, 2.47091229e-02, 2.14563672e-02, 2.64393820e-02,\n",
       "       2.28148214e-05, 2.46369467e-02, 2.69194850e-02, 2.08809061e-02,\n",
       "       2.83901631e-02, 2.25085936e-02, 2.24777384e-02, 5.52934346e-05,\n",
       "       2.60852876e-02, 2.07784704e-03, 2.24500955e-02, 3.07631621e-02,\n",
       "       3.00574413e-02, 2.80919855e-02, 2.04224460e-02, 2.24809503e-02,\n",
       "       2.41437008e-02, 2.20148022e-02, 2.96649884e-02, 2.15613640e-02,\n",
       "       2.44995202e-02, 2.71651030e-02, 2.09617983e-03, 2.28702953e-02,\n",
       "       2.16353887e-02, 2.11943287e-02, 2.24485128e-02, 2.22571096e-02,\n",
       "       5.21981550e-04, 1.64888691e-02, 1.87123241e-03, 2.26623545e-02,\n",
       "       2.25746186e-02, 5.33104412e-06, 1.50998276e-04, 2.33416545e-02,\n",
       "       1.72698598e-02, 2.15683725e-02, 2.35362817e-02, 2.33370160e-02,\n",
       "       3.20897804e-02, 1.92731584e-03, 5.43011756e-04, 2.50162089e-02,\n",
       "       3.96173287e-04, 2.62496784e-02, 4.61659630e-04, 1.88570611e-02,\n",
       "       9.54516097e-05, 2.45425073e-02, 2.29511892e-02, 2.18146050e-02,\n",
       "       2.04103172e-02, 2.39640116e-02, 2.46023051e-02, 2.48151731e-02,\n",
       "       2.05136257e-02, 2.30992718e-02, 2.21293863e-02, 2.34068514e-02,\n",
       "       8.15800000e-03, 2.31471324e-02, 2.19535891e-02, 2.63353323e-02,\n",
       "       2.05115866e-02, 2.23342239e-02, 2.02763633e-04, 2.44560888e-02,\n",
       "       2.22792769e-02, 1.81035396e-04, 2.19809760e-02, 1.99334853e-02,\n",
       "       2.59651404e-02, 1.04529239e-04, 2.42165963e-02, 2.33936240e-02,\n",
       "       2.61333989e-02, 2.70102071e-02, 2.31859075e-02, 2.84343069e-02,\n",
       "       2.08224156e-02, 2.27274153e-02, 2.32545351e-02, 2.43565045e-02,\n",
       "       2.13559203e-02, 2.66943874e-02, 1.54471171e-03, 2.30630385e-02,\n",
       "       2.31363260e-02, 2.14630153e-02, 2.59620091e-02, 2.16007259e-02,\n",
       "       2.14515867e-02, 3.38953172e-05, 2.51417788e-03, 2.24158466e-02,\n",
       "       9.66803684e-03, 2.48350445e-02, 2.18775793e-02, 2.57565641e-02,\n",
       "       1.99004521e-05, 2.44190941e-02, 8.79954365e-03, 2.09149788e-02,\n",
       "       2.16170023e-02, 2.24785337e-02, 2.46365558e-02, 2.35723403e-02,\n",
       "       2.55926963e-02, 2.87583652e-02, 1.40400170e-04, 2.13754778e-02,\n",
       "       1.41842735e-02, 1.77748519e-04, 2.58108727e-02, 3.20539487e-02,\n",
       "       1.93451235e-02, 5.69364131e-04, 2.48580793e-02, 1.82986673e-02,\n",
       "       2.34631939e-02, 2.93408520e-02, 2.27357222e-02, 2.30888054e-02,\n",
       "       1.90526971e-02, 3.08681844e-05, 2.22817174e-02, 1.94228438e-02,\n",
       "       2.13889189e-02, 2.10112804e-02, 1.12157286e-02, 2.66423463e-03,\n",
       "       2.03484780e-02, 2.70306741e-02, 2.03110020e-02, 2.07974928e-02,\n",
       "       1.76483295e-02, 2.15223337e-02, 2.49301343e-02, 1.01569540e-03,\n",
       "       2.40817298e-02, 2.07677681e-02, 8.79870191e-04, 2.17183111e-02,\n",
       "       2.21220018e-02, 2.22933969e-02, 1.99979025e-02, 2.84314373e-02,\n",
       "       2.53104185e-02, 2.15087227e-02, 2.44751528e-02, 2.58297070e-02,\n",
       "       2.78774662e-02, 2.28142731e-02, 1.97465167e-02, 4.93230399e-03,\n",
       "       2.73049199e-02, 2.25720212e-02, 2.67760905e-02, 2.87513334e-03,\n",
       "       2.54687946e-02, 3.61300167e-05, 8.25630930e-03, 1.99704395e-02,\n",
       "       2.62071676e-02, 2.87575746e-02, 8.45616592e-03, 2.66926438e-02,\n",
       "       3.25522288e-03, 6.04525680e-03, 2.48063382e-02, 1.82739100e-02,\n",
       "       1.01793966e-03, 2.05352962e-02, 2.60212452e-02, 1.90088585e-02,\n",
       "       1.06532407e-03, 2.90960900e-02, 2.75678819e-02, 2.32558400e-02,\n",
       "       2.70070127e-02, 1.72229068e-02, 2.24227318e-02, 7.13876547e-03,\n",
       "       2.12532370e-02, 2.36421889e-02, 2.31104980e-02, 3.18893506e-02,\n",
       "       2.28393796e-02, 2.17858107e-02, 2.12311421e-02, 1.68860495e-02,\n",
       "       5.28972403e-04, 1.86366832e-04, 2.12468007e-06, 5.68982529e-04,\n",
       "       2.44796194e-02, 2.56928133e-02, 2.48847832e-02, 1.19181835e-03,\n",
       "       1.25108578e-03, 1.61219250e-02, 2.03938464e-02, 2.46074536e-02,\n",
       "       2.64870741e-02, 2.27018836e-02, 1.18926246e-04, 2.28554296e-02,\n",
       "       2.16918223e-02, 2.10215332e-02, 2.22110942e-02, 9.79905548e-06,\n",
       "       2.17205824e-02, 2.53093686e-02, 2.24175321e-02, 2.20275323e-02,\n",
       "       2.65590666e-02, 1.73022700e-02, 2.30147125e-02, 1.91582867e-02,\n",
       "       1.92780396e-02, 2.48550142e-02, 1.49983829e-02, 1.85548311e-02,\n",
       "       1.35196938e-03, 2.27098510e-02, 1.94834820e-02, 2.31476353e-02,\n",
       "       2.28741430e-02, 2.50477458e-02, 2.00600621e-02, 2.82165760e-02,\n",
       "       2.15220995e-02, 2.29681291e-02, 2.17558777e-02, 2.47832917e-02,\n",
       "       2.73189429e-02, 2.28667800e-02, 2.51199890e-02, 2.31241788e-02,\n",
       "       4.42499089e-04, 1.82806905e-03, 2.17020155e-02, 2.70337886e-02,\n",
       "       2.46337807e-02, 2.28962388e-02, 2.28187233e-02, 1.96859847e-02,\n",
       "       2.21866652e-02, 8.98469389e-04, 2.05208541e-02, 2.54472071e-02,\n",
       "       7.11604941e-04, 2.26602493e-02, 2.78409976e-02, 2.30527518e-02,\n",
       "       2.38342579e-02, 2.66331511e-02, 2.54178647e-02, 4.83562448e-03,\n",
       "       2.41400064e-02, 1.50526422e-02, 2.12720059e-02, 3.47603645e-06,\n",
       "       2.47002689e-02, 2.58656048e-02, 2.49697991e-02, 1.83498040e-04,\n",
       "       2.17644885e-02, 2.33033488e-02, 2.58250650e-02, 2.95224216e-02,\n",
       "       3.08756893e-02, 2.20866690e-02, 2.07049188e-02, 2.50257293e-02,\n",
       "       2.29542346e-02, 2.13543588e-02, 2.89112576e-02, 2.77468373e-02,\n",
       "       8.58455648e-04, 2.77527379e-02, 1.67355613e-04, 2.06936134e-02,\n",
       "       2.19044039e-02, 2.50565891e-02, 1.31686644e-04, 2.52678637e-02,\n",
       "       2.06635613e-02, 1.99574385e-02, 1.15436527e-02, 2.00244373e-02,\n",
       "       1.77797150e-02, 2.16222794e-02, 2.21193659e-02, 2.46282768e-02,\n",
       "       2.73375637e-02, 2.12523703e-02, 1.36600529e-03, 2.63586135e-02,\n",
       "       1.40257607e-04, 2.32112478e-02, 2.80646451e-02, 2.90118962e-02,\n",
       "       2.21666737e-02, 5.17598761e-03, 2.05869806e-02, 2.23978801e-02,\n",
       "       1.83237537e-05, 5.46980079e-03, 3.03095032e-02, 2.42718461e-02,\n",
       "       2.35833659e-02, 4.53632589e-03, 2.50935270e-02, 2.35720935e-02,\n",
       "       2.40247741e-02, 1.93768788e-02, 2.69098636e-02, 2.06984238e-02,\n",
       "       2.55315930e-02, 1.95195890e-02, 6.68630661e-04, 2.12459070e-02,\n",
       "       2.60032851e-02, 2.85201278e-02, 1.68845584e-02, 2.64839297e-02,\n",
       "       2.35121802e-02, 2.25043075e-02, 3.49207697e-03, 1.90150762e-02,\n",
       "       2.43961016e-02, 2.09210643e-02, 2.49488767e-02, 2.54620849e-02,\n",
       "       5.09183605e-04, 2.65268135e-02, 6.39868078e-04, 1.01243203e-03,\n",
       "       7.19185972e-04, 4.53512445e-04, 2.01450611e-02, 1.93932161e-02,\n",
       "       2.95935676e-03, 3.72542121e-05, 2.91134848e-02, 1.86926480e-02,\n",
       "       2.62177973e-04, 2.62209732e-02, 2.29672301e-02, 2.02378825e-02,\n",
       "       2.90458322e-02, 1.87378425e-02, 2.30842898e-02, 7.74726275e-05,\n",
       "       2.19113401e-05, 2.45267775e-02, 2.08046849e-02, 2.48734964e-02,\n",
       "       2.31778791e-02, 2.18644218e-02, 2.44832137e-02, 2.64052442e-02,\n",
       "       2.02882616e-02, 1.84200637e-02, 2.42010407e-02, 1.57573852e-04,\n",
       "       1.73652547e-02, 2.24381856e-02, 2.84006897e-02, 2.53534021e-02,\n",
       "       1.89669716e-02, 3.62688162e-04, 2.72694291e-02, 2.62628357e-02,\n",
       "       4.09274849e-07, 1.86572046e-02, 2.57366290e-02, 2.09364171e-02,\n",
       "       2.64131236e-04, 2.36669567e-02, 2.20923868e-02, 1.88618129e-02,\n",
       "       2.74748413e-02, 2.00022070e-02, 1.20054998e-04, 2.11431634e-02,\n",
       "       2.23938213e-02, 2.44452275e-02, 2.00840966e-02, 1.43616511e-02,\n",
       "       1.71852691e-02, 2.19524421e-02, 2.05061162e-02, 2.55267345e-02,\n",
       "       2.40299737e-02, 2.53793968e-02, 2.52470258e-02, 1.86594519e-03,\n",
       "       5.14843303e-04, 2.85693766e-02, 2.06954780e-02, 2.13371175e-02,\n",
       "       1.98339773e-02, 2.49141214e-02, 2.38227488e-02, 2.18654525e-02,\n",
       "       2.52688497e-02, 2.50077436e-02, 2.77940018e-02, 2.09790770e-03,\n",
       "       2.66519233e-02, 2.24630534e-02, 2.70922294e-02, 2.57581947e-02,\n",
       "       2.29012246e-02, 2.13051100e-02, 1.47399609e-02, 1.83604601e-02,\n",
       "       2.43101622e-02, 2.60595908e-02, 1.52675369e-02, 2.29597793e-02,\n",
       "       2.92267743e-02, 2.00520674e-02, 2.21468116e-02, 2.14831039e-02,\n",
       "       1.97098284e-02, 2.84625027e-02, 1.56728182e-02, 2.33543196e-02,\n",
       "       8.47426991e-05, 2.01104158e-02, 2.52317585e-02, 2.02996257e-02,\n",
       "       2.61732200e-02, 1.08409412e-04, 2.62817333e-02, 2.18123060e-02,\n",
       "       2.91067163e-02, 1.52360713e-03, 2.79403119e-02, 2.39545463e-02,\n",
       "       2.07896204e-02, 1.50904247e-04, 2.79019760e-02, 2.48914173e-02,\n",
       "       2.31831651e-02, 1.63006907e-02, 3.86062934e-04, 2.07484205e-02,\n",
       "       2.64197401e-02, 8.84399177e-05, 2.17142310e-02, 1.79945756e-02,\n",
       "       2.50900148e-02, 2.39340256e-02, 2.68036173e-02, 2.28304201e-05,\n",
       "       2.00150643e-02, 1.91217020e-02, 2.64219803e-02, 2.77742424e-02,\n",
       "       2.61825214e-02, 2.58704307e-02, 1.75223025e-02, 2.49249409e-02,\n",
       "       2.13597899e-02, 2.04403973e-02, 7.63089347e-06, 2.27538830e-02,\n",
       "       8.73324777e-04, 1.72471468e-02, 2.00916063e-02, 2.40267181e-02,\n",
       "       3.15866475e-02, 2.02822309e-02, 2.02214090e-02, 2.83083268e-02,\n",
       "       1.40997431e-03, 1.47600778e-03, 5.21602688e-03, 2.57732829e-02,\n",
       "       2.34919401e-02, 2.55161905e-02, 2.59067749e-02, 2.79699770e-02,\n",
       "       2.23967859e-02, 2.19278024e-02, 1.51285675e-04, 2.25704260e-02,\n",
       "       2.71723962e-02, 2.19732234e-02, 2.55905176e-02, 2.54388638e-02,\n",
       "       2.32418016e-02, 2.45857363e-02, 1.58690521e-02, 2.45714480e-02,\n",
       "       5.91110593e-07, 2.16876377e-02, 2.08374334e-02, 2.01427274e-02,\n",
       "       2.53907484e-02, 2.01215378e-02, 2.43282842e-02, 3.50853709e-04,\n",
       "       2.31180458e-02, 2.54381196e-02, 2.49794134e-02, 2.33849003e-02,\n",
       "       3.27692715e-04, 1.92442213e-02, 3.14918081e-04, 2.12562520e-02,\n",
       "       2.21092812e-02, 2.10794267e-02, 2.41922806e-02, 2.11771596e-02,\n",
       "       2.47278632e-02, 1.76881513e-02, 2.55391417e-02, 1.74745948e-02,\n",
       "       2.18408264e-02, 2.66642918e-02, 2.31507544e-02, 2.35959216e-02,\n",
       "       2.10764592e-02, 6.05891271e-05, 2.21963968e-02, 2.77312222e-02,\n",
       "       2.26191598e-02, 1.80367156e-02, 2.82786677e-02, 1.87055741e-02,\n",
       "       1.58403789e-02, 2.63092471e-02, 5.55981265e-03, 2.86644672e-02,\n",
       "       1.32859808e-04, 2.32496468e-02, 5.23334229e-03, 9.25199556e-04,\n",
       "       8.03580890e-05, 2.87899370e-02, 2.60518165e-02, 2.32776015e-02,\n",
       "       2.01619541e-02, 2.26956265e-02, 1.86813368e-03, 2.42679366e-04,\n",
       "       2.39066295e-02, 9.44844526e-04, 2.36211421e-02, 2.70554156e-02,\n",
       "       2.73047662e-02, 2.32345551e-02, 2.65757655e-02, 2.54709601e-02,\n",
       "       2.24605335e-02, 2.57452171e-02, 2.10260643e-02, 2.16382248e-02,\n",
       "       2.38915467e-02, 2.80056998e-02, 2.94633702e-02, 1.99801778e-02,\n",
       "       2.11413223e-02, 2.91641182e-02, 9.18975127e-04, 7.37368133e-04,\n",
       "       2.38965850e-02, 2.03777328e-02, 2.20797696e-02, 2.28966052e-02,\n",
       "       5.51244548e-03, 2.36202566e-02, 1.97863218e-02, 4.28690435e-05,\n",
       "       1.97683222e-02, 1.88203684e-02, 1.83093628e-02, 2.17426876e-02,\n",
       "       1.28222446e-04, 1.76052298e-03, 2.26206366e-02, 1.92834636e-02,\n",
       "       1.92855174e-02, 1.88370241e-02, 2.52424627e-02, 1.84536477e-02,\n",
       "       1.96396679e-02, 1.67957632e-02, 4.74327783e-05, 1.87262834e-02,\n",
       "       2.25058363e-02, 2.74936752e-02, 2.27191593e-05, 2.39523918e-02,\n",
       "       2.90955811e-02, 2.16804731e-02, 2.67860043e-02, 2.25225958e-02,\n",
       "       2.86607206e-02, 1.91390550e-02, 9.34551489e-04, 6.53298366e-03,\n",
       "       2.58159223e-02, 5.93825593e-03, 2.43309630e-02, 2.99814678e-02,\n",
       "       1.01792704e-03, 2.73646209e-02, 2.46964804e-02, 2.38792790e-02,\n",
       "       2.31301516e-02, 2.62314942e-02, 2.26170439e-02, 1.94341867e-02,\n",
       "       1.96839853e-02, 2.44049629e-02, 3.68692827e-04, 2.56019540e-02,\n",
       "       2.28742863e-02, 2.03819194e-02, 1.58352154e-02, 1.36570320e-02,\n",
       "       2.26068967e-02, 2.61671953e-02, 2.28373193e-02, 2.28495120e-02,\n",
       "       2.34832704e-02, 9.10996138e-03, 3.96836065e-03, 2.74611667e-02,\n",
       "       1.52815765e-02, 2.28374768e-02, 2.98002389e-02, 8.43856105e-03,\n",
       "       3.00564863e-02, 2.58963236e-02, 2.15447390e-02, 2.96920491e-02,\n",
       "       6.60727753e-04, 1.68026255e-04, 1.93075281e-03, 2.15108913e-02,\n",
       "       2.57790375e-02, 2.58996402e-02, 2.36749989e-02, 2.27693756e-02,\n",
       "       2.46288814e-02, 2.36770862e-02, 2.40774828e-02, 1.69048956e-03,\n",
       "       4.28466099e-03, 2.25984964e-02, 1.73842373e-04, 3.04235819e-02,\n",
       "       2.22497264e-02, 2.19678950e-02, 2.23277387e-02, 2.61834047e-02,\n",
       "       1.67373672e-06, 2.45500452e-02, 2.34704522e-02, 2.15422023e-02,\n",
       "       2.24470360e-02, 2.79977932e-02, 2.54073469e-02, 4.45463564e-04,\n",
       "       2.26803318e-02, 2.07574107e-02, 2.46159933e-02, 1.21173900e-03,\n",
       "       2.24671600e-02, 2.09268356e-02, 2.58961968e-02, 4.48297519e-03,\n",
       "       2.54957007e-02, 1.57927904e-04, 2.48586667e-02, 2.27543724e-02,\n",
       "       2.89197204e-02, 2.84535546e-02, 3.15183584e-02, 2.18517540e-02,\n",
       "       2.85996207e-02, 2.57989575e-02, 2.25264209e-02, 2.81442327e-02,\n",
       "       2.37836071e-02, 2.65045547e-02, 2.40366255e-02, 1.06471017e-02,\n",
       "       2.28162214e-02, 2.42132747e-04, 2.47013546e-02, 3.15743355e-04,\n",
       "       2.56813092e-02, 7.72206702e-04, 2.05642037e-02, 1.88783942e-02,\n",
       "       2.33471470e-02, 1.78651163e-02, 7.37739671e-03, 1.88735674e-02,\n",
       "       2.11138830e-02, 4.38754658e-03, 2.02722257e-02, 2.47161269e-02,\n",
       "       2.21956859e-02, 2.62440561e-02, 2.37622468e-02, 2.39143853e-02,\n",
       "       1.24943910e-03, 2.65343673e-02, 2.27806968e-02, 2.48066159e-02,\n",
       "       2.42970001e-02, 2.15851714e-02, 2.81972854e-02, 2.32153917e-02,\n",
       "       1.03919403e-04, 2.42633302e-02, 2.43834065e-02, 2.02407706e-02,\n",
       "       2.45766946e-02, 2.82070451e-02, 2.93027857e-02, 2.58401408e-03,\n",
       "       2.71270847e-02, 2.85443352e-03, 1.93236578e-02, 2.16587401e-02,\n",
       "       1.35184393e-02, 2.69889346e-02, 2.45315893e-02, 2.14441671e-02,\n",
       "       2.60339667e-02, 2.77703201e-02, 2.10399248e-02, 3.67261567e-04,\n",
       "       2.51620290e-02, 2.25160460e-02, 2.37544606e-02, 2.17765664e-02,\n",
       "       2.29448554e-02, 2.94366819e-02, 1.92884928e-02, 2.46209510e-02,\n",
       "       2.77043327e-02, 2.27598493e-02, 2.10897934e-02, 2.18358575e-02,\n",
       "       1.25114231e-02, 2.29892710e-02, 1.95206513e-02, 2.78751881e-02,\n",
       "       1.89101348e-02, 2.79078162e-03, 1.04309359e-04, 2.13378679e-05,\n",
       "       2.21867045e-04, 1.86760265e-02, 1.79080646e-04, 4.72069038e-05,\n",
       "       1.98227932e-02, 2.73106802e-02, 2.43181080e-02, 2.48847115e-02,\n",
       "       1.90700463e-02, 6.51425296e-03, 3.41009139e-05, 1.77993360e-02,\n",
       "       9.78762867e-04, 2.40434360e-02, 2.70679131e-02, 2.75534704e-02,\n",
       "       2.40127392e-02, 2.17464154e-02, 2.05201471e-02, 8.69245645e-03,\n",
       "       2.55901195e-02, 2.10931024e-02, 1.84179105e-02, 2.68484290e-02,\n",
       "       5.93291246e-04, 5.86067281e-07, 1.34161212e-03, 2.61960611e-02,\n",
       "       1.66154828e-02, 2.47884388e-02, 2.04802856e-02, 2.54182470e-02,\n",
       "       2.54132083e-02, 8.02620890e-05, 2.10353082e-02, 2.30565297e-02,\n",
       "       2.30329083e-02, 2.55304176e-02, 2.43500680e-02, 2.24573002e-02,\n",
       "       1.83732593e-02, 2.73008951e-02, 2.48567732e-02, 2.69402802e-02,\n",
       "       2.99821242e-02, 2.23749292e-02, 2.86462714e-03, 2.08367760e-02,\n",
       "       2.72466443e-02, 2.43495941e-02, 4.78726592e-04, 2.21894661e-02,\n",
       "       2.41693179e-02, 2.15898489e-02, 5.39990662e-04, 2.26306274e-02,\n",
       "       2.51928998e-02, 2.42108439e-02, 2.47417539e-02, 2.36121149e-02,\n",
       "       1.78585338e-02, 1.78461935e-02, 2.49057876e-02, 2.53696859e-02,\n",
       "       2.17231972e-02, 2.02220569e-02, 2.94276531e-02, 8.96952039e-04,\n",
       "       2.29942611e-02, 1.30758019e-03, 2.13076823e-02, 2.14896498e-02,\n",
       "       2.62913282e-02, 3.05349729e-02, 2.17556908e-02, 3.01325697e-02,\n",
       "       1.65828572e-02, 2.32229604e-02, 3.20795648e-02, 2.21510277e-02,\n",
       "       3.11510575e-02, 2.43665025e-02, 2.31479835e-02, 5.77988585e-04,\n",
       "       2.40376344e-05, 2.71646996e-02, 2.52725229e-02, 2.22055775e-02,\n",
       "       2.30926459e-02, 2.52872865e-02, 2.02663217e-02, 2.41269245e-02,\n",
       "       3.66412226e-03, 2.20322717e-05, 2.12078460e-02, 2.52504230e-02,\n",
       "       2.52367368e-02, 1.84021979e-02, 1.88845216e-02, 2.38343813e-02,\n",
       "       2.19688823e-02, 2.24972419e-02, 1.86872067e-02, 2.37617821e-02,\n",
       "       2.16230069e-02, 1.76328867e-02, 2.41013966e-02, 2.16524119e-02,\n",
       "       2.32877833e-02, 2.48029077e-02, 2.15335827e-02, 2.71906872e-02,\n",
       "       2.17368799e-02, 2.48004901e-02, 2.52295395e-02, 2.19393571e-05,\n",
       "       2.01247326e-02, 2.40901128e-02, 1.89807366e-02, 2.56278938e-02,\n",
       "       1.30322008e-03, 2.51692646e-02, 2.12441066e-02, 3.13076110e-02,\n",
       "       2.09675236e-02, 1.79904048e-02, 2.81877229e-02, 1.93869322e-03,\n",
       "       2.60579458e-02, 2.51427455e-02, 2.60701641e-02, 2.29029785e-02,\n",
       "       1.87411972e-02, 2.57027344e-02, 1.68831395e-02, 2.71734624e-02,\n",
       "       2.08706785e-02, 2.19615482e-02, 1.96857655e-02, 1.56534830e-02,\n",
       "       2.36385447e-02, 2.55462409e-02, 1.99077895e-02, 2.53816139e-02,\n",
       "       2.29670876e-02, 2.85431085e-02, 2.27959504e-02, 1.70585079e-02,\n",
       "       2.44189620e-02, 2.45093626e-03, 2.14849051e-02, 1.88883609e-02,\n",
       "       4.02215592e-03, 2.04039604e-02, 2.84066228e-02, 4.87870592e-04,\n",
       "       2.62267495e-02, 2.46776699e-02, 2.57551039e-02, 2.90316274e-02,\n",
       "       3.99033776e-05, 2.28059208e-02, 2.23093449e-02, 2.64234900e-02,\n",
       "       2.45291723e-02, 1.76776930e-02, 2.64435904e-02, 8.02502295e-03,\n",
       "       2.26856005e-02, 5.46560555e-06, 2.54851770e-02, 1.61397397e-03,\n",
       "       2.00136906e-02, 2.19730527e-02, 1.74264283e-02, 2.51582595e-02,\n",
       "       2.05740434e-02, 2.43139010e-02, 2.39696250e-02, 2.54554494e-02,\n",
       "       2.89983640e-02, 2.46261837e-02, 2.08340741e-02, 2.55618811e-02,\n",
       "       2.44989175e-02, 1.65886178e-02, 2.09692235e-02, 2.95306196e-02,\n",
       "       2.68277116e-05, 2.60836638e-02, 1.22670286e-03, 2.68785468e-02,\n",
       "       2.63015379e-02, 2.00288602e-02, 2.16887148e-02, 1.77609391e-02,\n",
       "       2.10672340e-02, 2.35445365e-02, 1.38107650e-03, 1.88095220e-02,\n",
       "       2.78879698e-02, 2.66417688e-02, 7.44146006e-05, 2.20558605e-02,\n",
       "       7.43454937e-03, 2.71223276e-02, 1.64321859e-03, 2.65645126e-02])"
      ]
     },
     "execution_count": 15,
     "metadata": {},
     "output_type": "execute_result"
    }
   ],
   "source": [
    "results_100k_lan[0, :, 1]"
   ]
  },
  {
   "cell_type": "code",
   "execution_count": 7,
   "metadata": {},
   "outputs": [
    {
     "data": {
      "text/plain": [
       "(array([[9.29757440e-01, 3.42089033e-01, 1.36688913e-01],\n",
       "        [1.60344044e-02, 3.87277068e-03, 1.64021046e-03],\n",
       "        [5.47505700e+00, 1.69908631e+00, 6.17124857e-01],\n",
       "        [3.41200810e-02, 7.59002149e-03, 3.18347416e-03]]),\n",
       " array([[2.27115991e+00, 1.37943610e+00, 1.43612470e+00, 9.16567494e-01],\n",
       "        [8.99677600e-02, 2.00682170e-02, 1.49750917e-02, 7.39439162e-03],\n",
       "        [1.88339822e+01, 1.21781193e+01, 1.29545429e+01, 7.49657989e+00],\n",
       "        [1.85474683e-01, 4.13636506e-02, 2.84877673e-02, 1.37085529e-02]]),\n",
       " (4, 10, 3))"
      ]
     },
     "execution_count": 7,
     "metadata": {},
     "output_type": "execute_result"
    }
   ],
   "source": [
    "metrics.mean(1), metrics_lan.mean(1), metrics.shape"
   ]
  },
  {
   "cell_type": "markdown",
   "metadata": {},
   "source": [
    "### Simple comparison plot"
   ]
  },
  {
   "cell_type": "code",
   "execution_count": 8,
   "metadata": {},
   "outputs": [
    {
     "data": {
      "image/png": "[encoded data removed]",
      "text/plain": [
       "<Figure size 864x360 with 2 Axes>"
      ]
     },
     "metadata": {
      "needs_background": "light"
     },
     "output_type": "display_data"
    }
   ],
   "source": [
    "fig, ax = plt.subplots(1, 2, figsize=(12, 5), sharex=True)\n",
    "# labels = [\"Huber loss (log)\", \"Huber loss\", \"MSE (log)\", \"MSE\"]\n",
    "labels = [\"Huber loss (log)\", \"MSE (log)\"]\n",
    "budgets = [r\"$10^4$\", r\"$10^5$\", r\"$10^6$\", r\"$10^8$\"]\n",
    "axidx = 0\n",
    "for idx, m in enumerate(metrics):\n",
    "    if idx in [0, 2]:\n",
    "        plt.sca(ax[axidx])\n",
    "        plt.errorbar(budgets[:-1], m.mean(0), m.std(0)/np.sqrt(m.shape[0]), label=\"MNLE\", color=colors[2])\n",
    "        plt.errorbar(budgets, metrics_lan[idx].mean(0), metrics_lan[idx].std(0)/np.sqrt(metrics_lan[idx].shape[0]), label=\"LAN\", color=colors[1])\n",
    "        # plt.plot([r\"$10^{6}$\"], results_1000k_lan.mean(1).mean(0)[idx], color=colors[1], marker=\"+\")\n",
    "        # plt.plot([r\"$10^{8}$\"], results_100000k_lan.mean(1).mean(0)[idx], color=colors[1], marker=\"^\")\n",
    "        plt.plot([r\"$10^{11}$\"], results_10_11_lan.mean(1).mean(0)[idx], color=colors[1], marker=\"*\")\n",
    "        plt.ylabel(labels[axidx])\n",
    "        plt.legend()\n",
    "        plt.xlabel(\"budget\")\n",
    "        axidx += 1\n",
    "plt.tight_layout()"
   ]
  },
  {
   "cell_type": "code",
   "execution_count": null,
   "metadata": {},
   "outputs": [],
   "source": []
  }
 ],
 "metadata": {
  "interpreter": {
   "hash": "29bace33d111355690a65ce401e20e51c45a9fd14858a04fc9aac7364cb4c1df"
  },
  "kernelspec": {
   "display_name": "Python 3.7.11 ('mnle')",
   "language": "python",
   "name": "python3"
  },
  "language_info": {
   "codemirror_mode": {
    "name": "ipython",
    "version": 3
   },
   "file_extension": ".py",
   "mimetype": "text/x-python",
   "name": "python",
   "nbconvert_exporter": "python",
   "pygments_lexer": "ipython3",
   "version": "3.7.11"
  },
  "orig_nbformat": 4
 },
 "nbformat": 4,
 "nbformat_minor": 2
}
