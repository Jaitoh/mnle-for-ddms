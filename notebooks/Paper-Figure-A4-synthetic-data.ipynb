{
 "cells": [
  {
   "cell_type": "code",
   "execution_count": 1,
   "id": "835b1b13",
   "metadata": {},
   "outputs": [],
   "source": [
    "import matplotlib.pyplot as plt\n",
    "import numpy as np\n",
    "import pickle\n",
    "import time\n",
    "import torch\n",
    "\n",
    "import sbibm"
   ]
  },
  {
   "cell_type": "code",
   "execution_count": 2,
   "id": "0c1d04ad",
   "metadata": {},
   "outputs": [
    {
     "name": "stdout",
     "output_type": "stream",
     "text": [
      "seed 223174\n"
     ]
    }
   ],
   "source": [
    "# Plotting settings\n",
    "plt.style.use('plotting_settings.mplstyle')\n",
    "# Colorblind color palette\n",
    "colors = ['#377eb8', '#ff7f00', '#4daf4a',\n",
    "                  '#f781bf', '#a65628', '#984ea3',\n",
    "                  '#999999', '#e41a1c', '#dede00']\n",
    "\n",
    "# Fix seed for figures.\n",
    "seed = 223174 #torch.randint(1000000, (1,))\n",
    "torch.manual_seed(seed)\n",
    "print(f\"seed {seed}\")"
   ]
  },
  {
   "cell_type": "markdown",
   "id": "ce1d2a31",
   "metadata": {},
   "source": [
    "## Load DDM task from `sbibm`"
   ]
  },
  {
   "cell_type": "code",
   "execution_count": 3,
   "id": "5279e900",
   "metadata": {},
   "outputs": [],
   "source": [
    "task = sbibm.get_task(\"ddm\")\n",
    "prior = task.get_prior_dist()\n",
    "simulator = task.get_simulator(seed=seed) # Passing the seed to Julia."
   ]
  },
  {
   "cell_type": "code",
   "execution_count": 4,
   "id": "70e92c01",
   "metadata": {},
   "outputs": [],
   "source": [
    "# Load pretrained NLE model\n",
    "with open(\"../data/pretrained-models/mm_315_2.p\", \"rb\") as fh: \n",
    "    mnle = pickle.load(fh)"
   ]
  },
  {
   "cell_type": "code",
   "execution_count": 5,
   "id": "edf671c1",
   "metadata": {},
   "outputs": [
    {
     "name": "stdout",
     "output_type": "stream",
     "text": [
      "seed 765789\n"
     ]
    },
    {
     "name": "stderr",
     "output_type": "stream",
     "text": [
      "/home/janfb/.local/lib/python3.7/site-packages/julia/core.py:691: FutureWarning: Accessing `Julia().<name>` to obtain Julia objects is deprecated.  Use `from julia import Main; Main.<name>` or `jl = Julia(); jl.eval('<name>')`.\n",
      "  FutureWarning,\n"
     ]
    },
    {
     "data": {
      "image/png": "[encoded data removed]",
      "text/plain": [
       "<Figure size 1008x288 with 3 Axes>"
      ]
     },
     "metadata": {
      "needs_background": "light"
     },
     "output_type": "display_data"
    }
   ],
   "source": [
    "num_examples = 3\n",
    "show_density = True\n",
    "fig, ax = plt.subplots(1, num_examples, figsize=(14, 4), sharex=False, sharey=False)\n",
    "seed = 765789 #torch.randint(1000000, (1,))\n",
    "torch.manual_seed(seed)\n",
    "print(f\"seed {seed}\")\n",
    "alpha = 0.9\n",
    "\n",
    "nbins = 150\n",
    "num_samples = 10000\n",
    "for i in range(num_examples):\n",
    "    # Simulate\n",
    "    tho = prior.sample((1,))\n",
    "#     tho[0, -1] = 0.2\n",
    "    xo = simulator(tho.repeat(num_samples, 1))\n",
    "    rt, cs = mnle.sample(tho, num_samples)\n",
    "    x_mnle = rt\n",
    "    x_mnle[cs==0] *= -1\n",
    "    \n",
    "    \n",
    "    # Plotting\n",
    "    plt.sca(ax if num_examples==1 else ax[i])\n",
    "    c1, bins, _ = plt.hist(xo.numpy(), bins=nbins, alpha=alpha, label=\"simulator\", \n",
    "                           color=colors[3], density=show_density, histtype=\"step\", linewidth=2)\n",
    "    c2, _, _ = plt.hist(x_mnle.numpy(), bins=bins, alpha=alpha, label=\"MNLE\", \n",
    "                        color=colors[2], density=show_density, histtype=\"step\", linewidth=2)\n",
    "\n",
    "    if i == 0:\n",
    "        plt.legend()\n",
    "        plt.ylabel(\"density\")\n",
    "    \n",
    "    # fix yticks.\n",
    "    maxcount = round(max(c1.max(), c2.max()), 1)\n",
    "    if maxcount % 2: \n",
    "        maxcount += 1 \n",
    "    plt.ylim(0, maxcount)\n",
    "    plt.yticks(np.linspace(0, maxcount, 3))\n",
    "    \n",
    "    # xticks\n",
    "    plt.xlabel(\"$x$: reaction time [s]\")\n",
    "    plt.xticks([-2, -1, 0, 1, 2], [2, 1, 0, 1, 2])\n",
    "    plt.xlim(-2, 2)\n",
    "\n",
    "y1 = 0.93\n",
    "x1 = 0.01\n",
    "dx = 0.34\n",
    "weight = \"regular\"\n",
    "fontsize = 22\n",
    "fig.text(x1, y1, \"A\", fontsize=fontsize, fontweight=weight)\n",
    "fig.text(x1 + dx, y1, \"B\", fontsize=fontsize, fontweight=weight)\n",
    "fig.text(x1 + 1.9*dx, y1, \"C\", fontsize=fontsize, fontweight=weight)\n",
    "\n",
    "plt.tight_layout();\n",
    "fig.savefig(\"figures/FigureA4-MNLE-synthetic-data.png\", dpi=300, bbox_inches=\"tight\");"
   ]
  },
  {
   "cell_type": "code",
   "execution_count": null,
   "id": "d650e863",
   "metadata": {},
   "outputs": [],
   "source": []
  }
 ],
 "metadata": {
  "kernelspec": {
   "display_name": "Python 3",
   "language": "python",
   "name": "python3"
  },
  "language_info": {
   "codemirror_mode": {
    "name": "ipython",
    "version": 3
   },
   "file_extension": ".py",
   "mimetype": "text/x-python",
   "name": "python",
   "nbconvert_exporter": "python",
   "pygments_lexer": "ipython3",
   "version": "3.7.10"
  }
 },
 "nbformat": 4,
 "nbformat_minor": 5
}
