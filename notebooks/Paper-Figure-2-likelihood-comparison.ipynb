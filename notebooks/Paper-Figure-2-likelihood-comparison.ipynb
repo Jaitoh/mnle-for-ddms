{
 "cells": [
  {
   "cell_type": "code",
   "execution_count": 1,
   "id": "835b1b13",
   "metadata": {},
   "outputs": [],
   "source": [
    "import matplotlib.pyplot as plt\n",
    "import matplotlib as mpl\n",
    "import numpy as np\n",
    "import pandas as pd\n",
    "import pickle\n",
    "import scipy\n",
    "import time\n",
    "import torch\n",
    "\n",
    "from scipy.stats import binom_test, wilcoxon\n",
    "from tensorflow import keras\n",
    "\n",
    "import sbibm\n",
    "\n",
    "from sbibm.utils.io import get_tensor_from_csv, get_ndarray_from_csv\n",
    "from sbi.analysis import pairplot\n",
    "from utils import compile_df, huber_loss, mean_squared_error"
   ]
  },
  {
   "cell_type": "code",
   "execution_count": 2,
   "id": "a58ae681",
   "metadata": {},
   "outputs": [
    {
     "name": "stdout",
     "output_type": "stream",
     "text": [
      "seed 223174\n"
     ]
    }
   ],
   "source": [
    "# Plotting settings\n",
    "plt.style.use('plotting_settings.mplstyle')\n",
    "# Colorblind color palette\n",
    "colors = ['#377eb8', '#ff7f00', '#4daf4a',\n",
    "                  '#f781bf', '#a65628', '#984ea3',\n",
    "                  '#999999', '#e41a1c', '#dede00']\n",
    "\n",
    "# Fix seed for figures.\n",
    "seed = 223174 #torch.randint(1000000, (1,))\n",
    "torch.manual_seed(seed)\n",
    "print(f\"seed {seed}\")"
   ]
  },
  {
   "cell_type": "markdown",
   "id": "ce1d2a31",
   "metadata": {},
   "source": [
    "## Load DDM task from `sbibm`"
   ]
  },
  {
   "cell_type": "code",
   "execution_count": 3,
   "id": "5279e900",
   "metadata": {},
   "outputs": [],
   "source": [
    "task = sbibm.get_task(\"ddm\")\n",
    "prior = task.get_prior_dist()\n",
    "simulator = task.get_simulator(seed=seed) # Passing the seed to Julia."
   ]
  },
  {
   "cell_type": "markdown",
   "id": "4229e528",
   "metadata": {},
   "source": [
    "### Load pretrained LANs"
   ]
  },
  {
   "cell_type": "code",
   "execution_count": 4,
   "id": "868009d4",
   "metadata": {},
   "outputs": [],
   "source": [
    "# network trained on KDE likelihood for 4-param ddm\n",
    "lan_kde_path = \"../data/pretrained-models/model_final_ddm.h5\"\n",
    "lan_ana_path = \"../data/pretrained-models/model_final_ddm_analytic.h5\"\n",
    "lan_kde = keras.models.load_model(lan_kde_path, compile=False)\n",
    "lan_ana = keras.models.load_model(lan_ana_path, compile=False)\n",
    "\n",
    "def lan_likelihood(theta, data, net, ll_lower_bound):\n",
    "    \"\"\"Return log likelihood summed over all trials in data, \n",
    "        given a batch of parameters theta.\n",
    "    \n",
    "    Args\n",
    "        theta: batch of parameters\n",
    "        data: batch of iid reaction times and choices encoded\n",
    "            as negative and positive reaction times. \n",
    "        net: lan keras model\n",
    "        ll_lower_bound: lower bound of single trial log likelihood.\n",
    "        \n",
    "    Returns\n",
    "        llsum: batch of log likelihoods over trials. \n",
    "    \"\"\"\n",
    "    \n",
    "    # Convert to positive rts.\n",
    "    rts = abs(data)\n",
    "    num_trials = rts.numel()\n",
    "    num_parameters = theta.shape[0]\n",
    "    assert rts.shape == torch.Size([num_trials, 1])\n",
    "    theta = torch.tensor(theta, dtype=torch.float32)\n",
    "    # Convert DDM boundary seperation to symmetric boundary size.\n",
    "    theta[:, 1] *= 0.5\n",
    "\n",
    "    # Code down -1 up +1.\n",
    "    cs = torch.ones_like(rts)\n",
    "    cs[data < 0] *= -1\n",
    "\n",
    "    # Repeat theta trial times\n",
    "    theta_repeated = theta.repeat(num_trials, 1)\n",
    "    # repeat trial data theta times.\n",
    "    rts_repeated = torch.repeat_interleave(rts, num_parameters, dim=0)\n",
    "    cs_repeated = torch.repeat_interleave(cs, num_parameters, dim=0)\n",
    "\n",
    "    # stack everything for the LAN net.\n",
    "    theta_x_stack = torch.cat((theta_repeated, rts_repeated, cs_repeated), dim=1)\n",
    "    ll_each_trial = torch.tensor(\n",
    "        net.predict_on_batch(theta_x_stack.numpy()),\n",
    "        dtype=torch.float32,\n",
    "    ).reshape(num_trials, num_parameters)\n",
    "\n",
    "    # Lower bound on each trial log likelihood.\n",
    "    # Sum across trials.\n",
    "    llsum = torch.where(\n",
    "        torch.logical_and(\n",
    "            rts.repeat(1, num_parameters) > theta[:, -1], \n",
    "            ll_each_trial > ll_lower_bound,\n",
    "        ),\n",
    "        ll_each_trial,\n",
    "        ll_lower_bound * torch.ones_like(ll_each_trial),\n",
    "    ).sum(0)\n",
    "    \n",
    "    return llsum"
   ]
  },
  {
   "cell_type": "markdown",
   "id": "b76dd7ea",
   "metadata": {},
   "source": [
    "## Likelihood comparison for single example\n",
    "\n",
    "##### Sample example parameter from prior\n",
    "\n",
    "For creating a figure showing the likelihood over the entire data space given a fixed parameter combination we sample a single parameter combination from the prior and evaluate the synthetic likelihoods for a large range of reaction times and both choices, while holding the parameters fixed."
   ]
  },
  {
   "cell_type": "code",
   "execution_count": 5,
   "id": "de62e5e8",
   "metadata": {},
   "outputs": [
    {
     "data": {
      "text/plain": [
       "tensor([[-0.1089,  1.0866,  0.6434,  1.3179]])"
      ]
     },
     "execution_count": 5,
     "metadata": {},
     "output_type": "execute_result"
    }
   ],
   "source": [
    "# Sample one parameter from the prior for a likelihood example.\n",
    "theta_o = prior.sample((1,))\n",
    "l_lower_bound = 1e-7\n",
    "theta_o"
   ]
  },
  {
   "cell_type": "code",
   "execution_count": 6,
   "id": "70e92c01",
   "metadata": {},
   "outputs": [],
   "source": [
    "# Load pretrained NLE model\n",
    "with open(\"../data/pretrained-models/mm_315_2.p\", \"rb\") as fh: \n",
    "    mnle = pickle.load(fh)"
   ]
  },
  {
   "cell_type": "code",
   "execution_count": 7,
   "id": "62a28671",
   "metadata": {},
   "outputs": [
    {
     "name": "stderr",
     "output_type": "stream",
     "text": [
      "/home/janfb/.local/lib/python3.7/site-packages/julia/core.py:691: FutureWarning: Accessing `Julia().<name>` to obtain Julia objects is deprecated.  Use `from julia import Main; Main.<name>` or `jl = Julia(); jl.eval('<name>')`.\n",
      "  FutureWarning,\n",
      "/home/janfb/anaconda3/envs/ddm/lib/python3.7/site-packages/ipykernel_launcher.py:27: UserWarning: To copy construct from a tensor, it is recommended to use sourceTensor.clone().detach() or sourceTensor.clone().detach().requires_grad_(True), rather than torch.tensor(sourceTensor).\n"
     ]
    }
   ],
   "source": [
    "# construct rts and choices for mnle in [-test_tmax, test_tmax]\n",
    "\n",
    "# RT range\n",
    "test_tmax = 5\n",
    "# Number of test points\n",
    "ntest = 1000\n",
    "rs = torch.cat((torch.linspace(test_tmax, l_lower_bound, ntest//2), \n",
    "           torch.linspace(l_lower_bound, test_tmax, ntest//2))).reshape(-1, 1)\n",
    "cs = torch.cat((torch.zeros(ntest//2), \n",
    "           torch.ones(ntest//2))).reshape(-1, 1)\n",
    "\n",
    "test_rts = torch.linspace(-test_tmax, test_tmax, ntest)\n",
    "\n",
    "# get NLE synthetic likelihood for each data point with fixed theta.\n",
    "lps_mnle = torch.tensor([mnle.log_prob(r.reshape(-1, 1), c.reshape(-1, 1), theta_o) for r, c in zip(rs, cs)])\n",
    "\n",
    "# from analytical likelihood\n",
    "lps_true = torch.tensor([task.get_log_likelihood(theta_o, d.reshape(-1, 1), l_lower_bound=l_lower_bound) \n",
    "                     for d in test_rts])\n",
    "\n",
    "# and from both LANs.\n",
    "lps_lanana = torch.tensor([lan_likelihood(theta_o, \n",
    "                                   d.reshape(-1, 1), \n",
    "                                   net=lan_ana, \n",
    "                                   ll_lower_bound=np.log(l_lower_bound)) \n",
    "                    for d in test_rts])\n",
    "lps_lankde = torch.tensor([lan_likelihood(theta_o, \n",
    "                                   d.reshape(-1, 1), \n",
    "                                   net=lan_kde, \n",
    "                                   ll_lower_bound=np.log(l_lower_bound)) \n",
    "                    for d in test_rts])"
   ]
  },
  {
   "cell_type": "markdown",
   "id": "4d96868e",
   "metadata": {},
   "source": [
    "## Systematic Likelihood comparison\n",
    "\n",
    "Next we do a systematic comparison based on the Huber loss (the LAN training loss) and the mean squared error (MSE) between analytical and synthetic log likelihoods of LAN and NLE.\n",
    "\n",
    "During inference the observation is usually fixed and one evaluates the likelihood for a set of parameters sampled from the prior or a MCMC chain. To mimick this inference setup when comparison the estimated likelihoods, we sample an observation from the simulator given parameters from the prior, and obtain the likelihood of this observation given a large batch of parameters sampled from the prior, e.g., `1000`. The Huber loss and MSE are then calculated across this batch, resulting in a single number. We repeat this procedure for many observation, e.g., `100`, and then show boxplots over the resulting 100 numbers. "
   ]
  },
  {
   "cell_type": "code",
   "execution_count": 8,
   "id": "3c62f219",
   "metadata": {},
   "outputs": [
    {
     "name": "stderr",
     "output_type": "stream",
     "text": [
      "/home/janfb/anaconda3/envs/ddm/lib/python3.7/site-packages/ipykernel_launcher.py:27: UserWarning: To copy construct from a tensor, it is recommended to use sourceTensor.clone().detach() or sourceTensor.clone().detach().requires_grad_(True), rather than torch.tensor(sourceTensor).\n"
     ]
    }
   ],
   "source": [
    "# mimick the MCMC setting: xo is fixed, thetas are scored with loss\n",
    "num_observations = 100\n",
    "num_thetas_per_observation = 1000\n",
    "\n",
    "# first sample observations xo\n",
    "xos = simulator(prior.sample((num_observations,)))\n",
    "\n",
    "labels = [\n",
    "    \"LAN\", \n",
    "    \"MNLE\",\n",
    "]\n",
    "errors = []\n",
    "for xoi in xos:\n",
    "    \n",
    "    # Sample test thetas from prior.\n",
    "    test_thetas = prior.sample((num_thetas_per_observation,))\n",
    "    xoi = xoi.reshape(-1, 1)\n",
    "    # Extract positive RTs and choices for mixed model.\n",
    "    rsi = abs(xoi)\n",
    "    csi = torch.ones_like(rsi)\n",
    "    csi[xoi < 0] = 0\n",
    "\n",
    "    # Evaluate\n",
    "    lps_mnle_i = mnle.log_prob(rsi, csi, test_thetas).squeeze()    \n",
    "    lps_true_i = task.get_log_likelihood(test_thetas, data=xoi.reshape(1, -1), l_lower_bound=l_lower_bound)\n",
    "    lps_lanana_i = lan_likelihood(test_thetas, xoi, lan_ana, np.log(l_lower_bound))\n",
    "    lps_lankde_i = lan_likelihood(test_thetas, xoi, lan_kde, np.log(l_lower_bound))\n",
    "    \n",
    "\n",
    "    # Score\n",
    "    errors.append([\n",
    "            [\n",
    "                huber_loss(lps_lankde_i, lps_true_i),\n",
    "                huber_loss(lps_mnle_i, lps_true_i),\n",
    "            ],\n",
    "            [\n",
    "                huber_loss(lps_lankde_i.exp(), lps_true_i.exp()),\n",
    "                huber_loss(lps_mnle_i.exp(), lps_true_i.exp()),\n",
    "            ],            \n",
    "            [\n",
    "                mean_squared_error(lps_lankde_i, lps_true_i),\n",
    "                mean_squared_error(lps_mnle_i, lps_true_i),\n",
    "            ], \n",
    "            [\n",
    "                mean_squared_error(lps_lankde_i.exp(), lps_true_i.exp()),\n",
    "                mean_squared_error(lps_mnle_i.exp(), lps_true_i.exp()),\n",
    "            ],         \n",
    "        ])\n",
    "errors = np.array(errors)\n",
    "\n",
    "# extract separate dataframes for huber and mse.\n",
    "dfhuber_log = pd.DataFrame(data=np.array(errors)[:, 0, :], columns=labels)\n",
    "dfhuber = pd.DataFrame(data=np.array(errors)[:, 1, :], columns=labels)\n",
    "dfmse_log = pd.DataFrame(data=np.array(errors)[:, 2, :], columns=labels)\n",
    "dfmse = pd.DataFrame(data=np.array(errors)[:, 3, :], columns=labels)"
   ]
  },
  {
   "cell_type": "markdown",
   "id": "9cae9bc7",
   "metadata": {},
   "source": [
    "## Estimate evaluation times"
   ]
  },
  {
   "cell_type": "code",
   "execution_count": 9,
   "id": "2e39964e",
   "metadata": {},
   "outputs": [
    {
     "name": "stderr",
     "output_type": "stream",
     "text": [
      "/home/janfb/anaconda3/envs/ddm/lib/python3.7/site-packages/ipykernel_launcher.py:27: UserWarning: To copy construct from a tensor, it is recommended to use sourceTensor.clone().detach() or sourceTensor.clone().detach().requires_grad_(True), rather than torch.tensor(sourceTensor).\n"
     ]
    }
   ],
   "source": [
    "# Vary size of theta (number of MCMC chains in parallel)\n",
    "num_chains = [10]\n",
    "# Vary size of data (number of trials)\n",
    "num_trials = [100]\n",
    "reps = 100\n",
    "\n",
    "lan_rts = np.zeros((len(num_chains), len(num_trials), reps))\n",
    "mnle_rts = np.zeros_like(lan_rts)\n",
    "\n",
    "thetas = prior.sample((num_chains[-1],))\n",
    "xs = simulator(prior.sample((1,)).repeat(num_trials[-1], 1))\n",
    "\n",
    "for ii in range(reps):\n",
    "    for jj, nc in enumerate(num_chains): \n",
    "        for kk, nt in enumerate(num_trials):\n",
    "            # LAN timing\n",
    "            tic = time.time()\n",
    "            lan_likelihood(thetas[:nc,], xs[:nt,], net=lan_kde, ll_lower_bound=np.log(l_lower_bound))\n",
    "            lan_rts[jj, kk, ii] = time.time() - tic\n",
    "\n",
    "            # NLE timing\n",
    "            rts = abs(xs[:nt])\n",
    "            cs = torch.ones_like(rts)\n",
    "            cs[xs[:nt] < 0] = 0\n",
    "            tic = time.time()\n",
    "            mnle.log_prob(rts, cs, thetas[:nc])\n",
    "            mnle_rts[jj, kk, ii] = time.time() - tic\n",
    "\n",
    "# convert ot ms\n",
    "lan_rts *= 1000\n",
    "mnle_rts *= 1000"
   ]
  },
  {
   "cell_type": "markdown",
   "id": "63d94251",
   "metadata": {},
   "source": [
    "## Results figure 1\n",
    "\n",
    "- likelihood examples\n",
    "\n",
    "- likelihood accuracy\n",
    "\n",
    "- number of simulations\n",
    "\n",
    "- evaluation time"
   ]
  },
  {
   "cell_type": "code",
   "execution_count": 10,
   "id": "aa2d8483",
   "metadata": {},
   "outputs": [
    {
     "name": "stderr",
     "output_type": "stream",
     "text": [
      "/home/janfb/anaconda3/envs/ddm/lib/python3.7/site-packages/ipykernel_launcher.py:106: UserWarning: This figure includes Axes that are not compatible with tight_layout, so results might be incorrect.\n"
     ]
    },
    {
     "data": {
      "image/png": "[encoded data removed]",
      "text/plain": [
       "<Figure size 1296x576 with 6 Axes>"
      ]
     },
     "metadata": {
      "needs_background": "light"
     },
     "output_type": "display_data"
    }
   ],
   "source": [
    "fig, ax = plt.subplots(2, 3, sharex=False, figsize=(18, 8),  \n",
    "                       gridspec_kw=dict(wspace=0.31, hspace=0.32, width_ratios=[0.6, .2, .2]))\n",
    "\n",
    "grid = False\n",
    "showfliers = True\n",
    "xticks = np.arange(-4, 5, 2)\n",
    "\n",
    "labels = [\"Analytical\", \n",
    "          \"LAN\", \n",
    "          \"MNLE\", \n",
    "         ]\n",
    "\n",
    "plt.sca(ax[0, 0])\n",
    "plt.plot(test_rts, lps_true.exp(), label=\"Analytical L\", c=colors[0]);\n",
    "plt.plot(test_rts, lps_lankde.exp(), label=\"LAN-KDE\", ls=\"-\", c=colors[1]);\n",
    "plt.plot(test_rts, lps_mnle.exp(), label=\"MNLE\", ls=\"-\", c=colors[2]);\n",
    "plt.ylabel(r\"$L(x | \\theta)$\");\n",
    "plt.legend(labels)\n",
    "plt.xticks(xticks, [])\n",
    "# plt.yticks([0, 2, 4])\n",
    "# plt.ylim([-.2, 4])\n",
    "plt.axvline(0, color=\"k\", lw=1)\n",
    "y = max(lps_true.exp())+.1\n",
    "plt.arrow(0, y, 0.3, 0., width=0.03, color=\"k\", alpha=0.5)\n",
    "plt.text(0.1, 1.05 * y, s=\"up\")\n",
    "plt.arrow(0, y, -0.3, 0., width=0.03, color=\"k\", alpha=0.5)\n",
    "plt.text(-1.25, 1.05*y, s=\"down\")\n",
    "# plt.yticks(np.linspace(0, 4, 5), np.linspace(0, 4, 5))\n",
    "# plt.suptitle(fr\"v={theta_o[0, 0]:.2f}, a={theta_o[0, 1]:.2f}, w={theta_o[0, 2]:.2f}, $\\tau$={theta_o[0, 3]:.2f}\");\n",
    "\n",
    "plt.sca(ax[1, 0])\n",
    "plt.plot(test_rts, lps_true, c=colors[0])\n",
    "# plt.plot(test_rts, lps_lanana)\n",
    "plt.plot(test_rts, lps_lankde, ls=\"-\", c=colors[1])\n",
    "plt.plot(test_rts, lps_mnle, ls=\"-\", c=colors[2])\n",
    "# plt.legend(labels)\n",
    "plt.xlabel(\"$x$: reaction time [s]\")\n",
    "plt.ylabel(r\"$\\log L(x | \\theta)$\");\n",
    "plt.xticks(xticks, abs(xticks))\n",
    "plt.axvline(0, color=\"k\", lw=1)\n",
    "\n",
    "plt.sca(ax[0, 1])\n",
    "box_widths = [0.3] * 2\n",
    "bdict = dfhuber_log.boxplot(ax=ax[0, 1], patch_artist=True, return_type=\"dict\", \n",
    "                            medianprops={\"color\": \"k\"}, grid=grid, \n",
    "                           notch=True, \n",
    "                           widths=box_widths, \n",
    "                           showfliers=showfliers,\n",
    "                           )\n",
    "plt.ylabel(\"Huber loss\");\n",
    "for i,box in enumerate(bdict['boxes']):\n",
    "    box.set_color(colors[i+1])\n",
    "plt.yticks(np.linspace(0, 0.4, 3));\n",
    "plt.ylim(0, .4)\n",
    "\n",
    "plt.sca(ax[0, 2])\n",
    "bdict = dfmse_log.boxplot(ax=ax[0, 2], patch_artist=True, return_type=\"dict\", \n",
    "                          medianprops={\"color\": \"k\"}, grid=grid, \n",
    "                          notch=True, \n",
    "                          widths=box_widths,\n",
    "                          showfliers=showfliers,\n",
    "                         )\n",
    "plt.ylabel(r\"MSE\");\n",
    "for i,box in enumerate(bdict['boxes']):\n",
    "    box.set_color(colors[i+1])\n",
    "plt.yticks(np.linspace(0, 2.5, 3))\n",
    "plt.ylim(0, 2.5);\n",
    "\n",
    "\n",
    "budget_data = pd.DataFrame({'method': [\"LAN\", \"MNLE\"], 'training budget': [1e11, 1e5]})\n",
    "plt.sca(ax[1, 2])\n",
    "budget_data.plot.bar(x=\"method\", y=\"training budget\", color=colors[1:3], ax=ax[1, 2], \n",
    "             rot=0, width=box_widths[0])\n",
    "plt.xlabel('')\n",
    "plt.ylabel(\"simulation budget\")\n",
    "plt.legend(\"\")\n",
    "plt.yscale(\"log\")\n",
    "plt.ylim(5e4, 1e11)\n",
    "plt.yticks(np.logspace(0, 12, 3), [r\"$10^0$\", \n",
    "                                   r\"$10^6$\", \n",
    "#                                    r\"$10^6$\",r\"$10^7$\",r\"$10^8$\",r\"$10^9$\", \n",
    "                                   r\"$10^{12}$\"])\n",
    "\n",
    "runtime_data = pd.DataFrame({'method': [\"LAN\", \"MNLE\"], 'rt': [lan_rts.mean(), mnle_rts.mean()]})\n",
    "plt.sca(ax[1, 1])\n",
    "runtime_data.plot.bar(x=\"method\", y=\"rt\", color=colors[1:3], ax=ax[1, 1], \n",
    "                     rot=0, width=box_widths[0], \n",
    "                      # add standard error of mean.\n",
    "                     yerr=[lan_rts.std()/np.sqrt(reps), mnle_rts.std()/np.sqrt(reps)])\n",
    "plt.xlabel('')\n",
    "plt.ylabel(\"eval. time [ms]\")\n",
    "plt.legend(\"\")\n",
    "plt.yticks(np.linspace(0, 8, 3), np.linspace(0, 8, 3))\n",
    "\n",
    "weight = \"regular\"\n",
    "fontsize = 23\n",
    "y1 = 0.9\n",
    "x1 = 0.07\n",
    "dx = .45\n",
    "dx2 = 0.64\n",
    "fig.text(x1, y1, \"A\", fontsize=fontsize, fontweight=weight)\n",
    "fig.text(x1 + dx, y1, \"B\", fontsize=fontsize, fontweight=weight)\n",
    "fig.text(x1 + dx2, y1, \"C\", fontsize=fontsize, fontweight=weight)\n",
    "fig.text(x1 + dx, y1 - 0.43, \"D\", fontsize=fontsize, fontweight=weight)\n",
    "fig.text(x1 + dx2, y1 - 0.43, \"E\", fontsize=fontsize, fontweight=weight);\n",
    "plt.tight_layout()\n",
    "fig.savefig(\"figures/Figure2-MNLE-LAN-likelihood-comparison.png\", dpi=300, bbox_inches=\"tight\");"
   ]
  },
  {
   "cell_type": "markdown",
   "id": "2e5ce015",
   "metadata": {},
   "source": [
    "### Medians and pairwise comparisons"
   ]
  },
  {
   "cell_type": "code",
   "execution_count": 11,
   "id": "c038f292",
   "metadata": {},
   "outputs": [
    {
     "data": {
      "text/plain": [
       "(LAN     0.164614\n",
       " MNLE    0.124741\n",
       " dtype: float64,\n",
       " LAN     1.058390\n",
       " MNLE    0.524063\n",
       " dtype: float64)"
      ]
     },
     "execution_count": 11,
     "metadata": {},
     "output_type": "execute_result"
    }
   ],
   "source": [
    "dfhuber_log.median(), dfmse_log.median()"
   ]
  },
  {
   "cell_type": "code",
   "execution_count": 12,
   "id": "72fb1a99",
   "metadata": {},
   "outputs": [
    {
     "data": {
      "text/plain": [
       "4.825421503937196e-13"
      ]
     },
     "execution_count": 12,
     "metadata": {},
     "output_type": "execute_result"
    }
   ],
   "source": [
    "binom_test((dfhuber_log.LAN>dfhuber_log.MNLE).sum(), num_observations, 0.5)"
   ]
  },
  {
   "cell_type": "code",
   "execution_count": 13,
   "id": "0659c2f6",
   "metadata": {},
   "outputs": [
    {
     "data": {
      "text/plain": [
       "WilcoxonResult(statistic=808.0, pvalue=3.5564577539504612e-09)"
      ]
     },
     "execution_count": 13,
     "metadata": {},
     "output_type": "execute_result"
    }
   ],
   "source": [
    "wilcoxon(dfhuber_log.LAN, dfhuber_log.MNLE, )"
   ]
  },
  {
   "cell_type": "code",
   "execution_count": 14,
   "id": "dc5a93b5",
   "metadata": {},
   "outputs": [
    {
     "data": {
      "text/plain": [
       "2.540853335492305e-16"
      ]
     },
     "execution_count": 14,
     "metadata": {},
     "output_type": "execute_result"
    }
   ],
   "source": [
    "binom_test((dfmse_log.LAN>dfmse_log.MNLE).sum(), num_observations, 0.5)"
   ]
  },
  {
   "cell_type": "code",
   "execution_count": 15,
   "id": "9754f95c",
   "metadata": {},
   "outputs": [
    {
     "data": {
      "text/plain": [
       "WilcoxonResult(statistic=294.0, pvalue=1.7079003674309875e-14)"
      ]
     },
     "execution_count": 15,
     "metadata": {},
     "output_type": "execute_result"
    }
   ],
   "source": [
    "wilcoxon(dfmse_log.LAN, dfmse_log.MNLE, )"
   ]
  },
  {
   "cell_type": "code",
   "execution_count": null,
   "id": "82b25257",
   "metadata": {},
   "outputs": [],
   "source": []
  }
 ],
 "metadata": {
  "kernelspec": {
   "display_name": "Python 3",
   "language": "python",
   "name": "python3"
  },
  "language_info": {
   "codemirror_mode": {
    "name": "ipython",
    "version": 3
   },
   "file_extension": ".py",
   "mimetype": "text/x-python",
   "name": "python",
   "nbconvert_exporter": "python",
   "pygments_lexer": "ipython3",
   "version": "3.7.10"
  }
 },
 "nbformat": 4,
 "nbformat_minor": 5
}
